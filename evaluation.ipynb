{
 "cells": [
  {
   "cell_type": "code",
   "execution_count": 1,
   "metadata": {},
   "outputs": [],
   "source": [
    "import simexpal\n",
    "import yaml\n",
    "import numpy as np\n",
    "import datetime\n",
    "import matplotlib.pyplot as plt\n",
    "import functools\n",
    "import pprint\n",
    "from scipy.stats import gmean"
   ]
  },
  {
   "cell_type": "code",
   "execution_count": 61,
   "metadata": {},
   "outputs": [],
   "source": [
    "cfg = simexpal.config_for_dir()\n",
    "\n",
    "results = []\n",
    "for run in cfg.collect_successful_results():\n",
    "    with run.open_output_file() as f:\n",
    "        yml = yaml.load(f, Loader=yaml.SafeLoader)\n",
    "    results.append(yml)\n",
    "\n",
    "for r in results:\n",
    "    if 'duration_ms' not in r:\n",
    "        results.remove(r)\n",
    "    \n",
    "# pp = pprint.PrettyPrinter(width=41, compact=True)\n",
    "# pp.pprint(results)"
   ]
  },
  {
   "cell_type": "code",
   "execution_count": 5,
   "metadata": {},
   "outputs": [
    {
     "name": "stdout",
     "output_type": "stream",
     "text": [
      "Format: aspen, 1 threads, took 1647 ms, on graph: cit-Patents\n",
      "Format: aspen, 1 threads, took 3605171 ms, on graph: com-friendster\n",
      "Format: aspen, 1 threads, took 123156 ms, on graph: com-orkut\n",
      "Format: aspen, 1 threads, took 97971 ms, on graph: soc-LiveJournal1\n",
      "Format: aspen, 1 threads, took 1113738 ms, on graph: soc-twitter-mpi-sws\n",
      "Format: aspen, 1 threads, took 128289 ms, on graph: tech-p2p\n",
      "Format: aspen, 1 threads, took 1003178 ms, on graph: web-uk-2005\n",
      "Format: aspen, 1 threads, took 909795 ms, on graph: web-wikipedia_link_en13\n",
      "Format: aspen, 1 threads, took 24958 ms, on graph: wiki-topcats\n",
      "Format: aspen, 1 threads, took 1262 ms, on graph: cit-Patents\n",
      "Format: aspen, 1 threads, took 118492 ms, on graph: com-friendster\n",
      "Format: aspen, 1 threads, took 6429 ms, on graph: com-orkut\n",
      "Format: aspen, 1 threads, took 4344 ms, on graph: soc-LiveJournal1\n",
      "Format: aspen, 1 threads, took 92556 ms, on graph: soc-twitter-mpi-sws\n",
      "Format: aspen, 1 threads, took 9037 ms, on graph: tech-p2p\n",
      "Format: aspen, 1 threads, took 461 ms, on graph: web-BerkStan\n",
      "Format: aspen, 1 threads, took 55244 ms, on graph: web-uk-2005\n",
      "Format: aspen, 1 threads, took 38790 ms, on graph: web-wikipedia_link_en13\n",
      "Format: aspen, 1 threads, took 1855 ms, on graph: wiki-topcats\n",
      "Format: aspen, 1 threads, took 43762 ms, on graph: cit-Patents\n",
      "Format: aspen, 1 threads, took 335714 ms, on graph: com-orkut\n",
      "Format: aspen, 1 threads, took 191720 ms, on graph: soc-LiveJournal1\n",
      "Format: aspen, 1 threads, took 6399681 ms, on graph: soc-twitter-mpi-sws\n",
      "Format: aspen, 1 threads, took 517646 ms, on graph: tech-p2p\n",
      "Format: aspen, 1 threads, took 17835 ms, on graph: web-BerkStan\n",
      "Format: aspen, 1 threads, took 2850921 ms, on graph: web-uk-2005\n",
      "Format: aspen, 1 threads, took 2072187 ms, on graph: web-wikipedia_link_en13\n",
      "Format: aspen, 1 threads, took 76514 ms, on graph: wiki-topcats\n",
      "Format: aspen, 1 threads, took 1217 ms, on graph: cit-Patents\n",
      "Format: aspen, 1 threads, took 108927 ms, on graph: com-friendster\n",
      "Format: aspen, 1 threads, took 6436 ms, on graph: com-orkut\n",
      "Format: aspen, 1 threads, took 4331 ms, on graph: soc-LiveJournal1\n",
      "Format: aspen, 1 threads, took 91074 ms, on graph: soc-twitter-mpi-sws\n",
      "Format: aspen, 1 threads, took 9017 ms, on graph: tech-p2p\n",
      "Format: aspen, 1 threads, took 461 ms, on graph: web-BerkStan\n",
      "Format: aspen, 1 threads, took 55159 ms, on graph: web-uk-2005\n",
      "Format: aspen, 1 threads, took 36790 ms, on graph: web-wikipedia_link_en13\n",
      "Format: aspen, 1 threads, took 1846 ms, on graph: wiki-topcats\n",
      "Format: aspen, 1 threads, took 9706 ms, on graph: cit-Patents\n",
      "Format: aspen, 1 threads, took 8933 ms, on graph: com-friendster\n",
      "Format: aspen, 1 threads, took 7679 ms, on graph: com-orkut\n",
      "Format: aspen, 1 threads, took 7609 ms, on graph: soc-LiveJournal1\n",
      "Format: aspen, 1 threads, took 11750 ms, on graph: soc-twitter-mpi-sws\n",
      "Format: aspen, 1 threads, took 9577 ms, on graph: tech-p2p\n",
      "Format: aspen, 1 threads, took 5247 ms, on graph: web-BerkStan\n",
      "Format: aspen, 1 threads, took 7054 ms, on graph: web-uk-2005\n",
      "Format: aspen, 1 threads, took 8833 ms, on graph: web-wikipedia_link_en13\n",
      "Format: aspen, 1 threads, took 6222 ms, on graph: wiki-topcats\n",
      "Format: aspen, 1 threads, took 2806 ms, on graph: ia-stackexch-user-marks-post-und\n",
      "Format: aspen, 1 threads, took 45926 ms, on graph: rec-epinions-user-ratings\n",
      "Format: aspen, 1 threads, took 1739 ms, on graph: soc-epinions-trust-dir\n",
      "Format: aspen, 1 threads, took 103203 ms, on graph: soc-flickr-growth\n",
      "Format: aspen, 1 threads, took 27461 ms, on graph: soc-youtube-growth\n",
      "Format: aspen, 1 threads, took 183146 ms, on graph: sx-stackoverflow\n",
      "Format: aspen, 1 threads, took 24142 ms, on graph: wiki-talk-temporal\n",
      "Format: aspen, 1 threads, took 3054 ms, on graph: ia-stackexch-user-marks-post-und\n",
      "Format: aspen, 1 threads, took 50536 ms, on graph: rec-epinions-user-ratings\n",
      "Format: aspen, 1 threads, took 1861 ms, on graph: soc-epinions-trust-dir\n",
      "Format: aspen, 1 threads, took 104822 ms, on graph: soc-flickr-growth\n",
      "Format: aspen, 1 threads, took 33276 ms, on graph: soc-youtube-growth\n",
      "Format: aspen, 1 threads, took 178401 ms, on graph: sx-stackoverflow\n",
      "Format: aspen, 1 threads, took 22307 ms, on graph: wiki-talk-temporal\n",
      "Format: NetworKit, 1 threads, took 31971 ms, on graph: cit-Patents\n",
      "Format: NetworKit, 1 threads, took 125899 ms, on graph: com-orkut\n",
      "Format: NetworKit, 1 threads, took 96658 ms, on graph: soc-LiveJournal1\n",
      "Format: NetworKit, 1 threads, took 165111 ms, on graph: tech-p2p\n",
      "Format: NetworKit, 1 threads, took 4104 ms, on graph: web-BerkStan\n",
      "Format: NetworKit, 1 threads, took 561892 ms, on graph: web-uk-2005\n",
      "Format: NetworKit, 1 threads, took 701692 ms, on graph: web-wikipedia_link_en13\n",
      "Format: NetworKit, 1 threads, took 32373 ms, on graph: wiki-topcats\n",
      "Format: NetworKit, 1 threads, took 3412 ms, on graph: cit-Patents\n",
      "Format: NetworKit, 1 threads, took 14495 ms, on graph: com-orkut\n",
      "Format: NetworKit, 1 threads, took 7252 ms, on graph: soc-LiveJournal1\n",
      "Format: NetworKit, 1 threads, took 248282 ms, on graph: soc-twitter-mpi-sws\n",
      "Format: NetworKit, 1 threads, took 24625 ms, on graph: tech-p2p\n",
      "Format: NetworKit, 1 threads, took 326 ms, on graph: web-BerkStan\n",
      "Format: NetworKit, 1 threads, took 53454 ms, on graph: web-uk-2005\n",
      "Format: NetworKit, 1 threads, took 102111 ms, on graph: web-wikipedia_link_en13\n",
      "Format: NetworKit, 1 threads, took 2400 ms, on graph: wiki-topcats\n",
      "Format: DHB, 1 threads, took 318 ms, on graph: cit-Patents\n",
      "Format: DHB, 1 threads, took 256558 ms, on graph: com-friendster\n",
      "Format: DHB, 1 threads, took 26826 ms, on graph: com-orkut\n",
      "Format: DHB, 1 threads, took 50557 ms, on graph: soc-LiveJournal1\n",
      "Format: DHB, 1 threads, took 1188073 ms, on graph: soc-twitter-mpi-sws\n",
      "Format: DHB, 1 threads, took 42098 ms, on graph: tech-p2p\n",
      "Format: DHB, 1 threads, took 1839 ms, on graph: web-BerkStan\n",
      "Format: DHB, 1 threads, took 471012 ms, on graph: web-uk-2005\n",
      "Format: DHB, 1 threads, took 186849 ms, on graph: web-wikipedia_link_en13\n",
      "Format: DHB, 1 threads, took 26017 ms, on graph: wiki-topcats\n",
      "Format: DHB, 1 threads, took 404 ms, on graph: cit-Patents\n",
      "Format: DHB, 1 threads, took 64915 ms, on graph: com-friendster\n",
      "Format: DHB, 1 threads, took 3426 ms, on graph: com-orkut\n",
      "Format: DHB, 1 threads, took 2049 ms, on graph: soc-LiveJournal1\n",
      "Format: DHB, 1 threads, took 58666 ms, on graph: soc-twitter-mpi-sws\n",
      "Format: DHB, 1 threads, took 10161 ms, on graph: tech-p2p\n",
      "Format: DHB, 1 threads, took 205 ms, on graph: web-BerkStan\n",
      "Format: DHB, 1 threads, took 44966 ms, on graph: web-uk-2005\n",
      "Format: DHB, 1 threads, took 16423 ms, on graph: web-wikipedia_link_en13\n",
      "Format: DHB, 1 threads, took 693 ms, on graph: wiki-topcats\n",
      "Format: DHB, 1 threads, took 523 ms, on graph: cit-Patents\n",
      "Format: DHB, 1 threads, took 87889 ms, on graph: com-friendster\n",
      "Format: DHB, 1 threads, took 5389 ms, on graph: com-orkut\n",
      "Format: DHB, 1 threads, took 2776 ms, on graph: soc-LiveJournal1\n",
      "Format: DHB, 1 threads, took 77888 ms, on graph: soc-twitter-mpi-sws\n",
      "Format: DHB, 1 threads, took 16541 ms, on graph: tech-p2p\n",
      "Format: DHB, 1 threads, took 257 ms, on graph: web-BerkStan\n",
      "Format: DHB, 1 threads, took 52755 ms, on graph: web-uk-2005\n",
      "Format: DHB, 1 threads, took 24431 ms, on graph: web-wikipedia_link_en13\n",
      "Format: DHB, 1 threads, took 1052 ms, on graph: wiki-topcats\n",
      "Format: DHB, 1 threads, took 411 ms, on graph: cit-Patents\n",
      "Format: DHB, 1 threads, took 78690 ms, on graph: com-friendster\n",
      "Format: DHB, 1 threads, took 3414 ms, on graph: com-orkut\n",
      "Format: DHB, 1 threads, took 2127 ms, on graph: soc-LiveJournal1\n",
      "Format: DHB, 1 threads, took 66700 ms, on graph: soc-twitter-mpi-sws\n",
      "Format: DHB, 1 threads, took 11718 ms, on graph: tech-p2p\n",
      "Format: DHB, 1 threads, took 200 ms, on graph: web-BerkStan\n",
      "Format: DHB, 1 threads, took 47163 ms, on graph: web-uk-2005\n",
      "Format: DHB, 1 threads, took 19092 ms, on graph: web-wikipedia_link_en13\n",
      "Format: DHB, 1 threads, took 717 ms, on graph: wiki-topcats\n",
      "Format: DHB, 1 threads, took 2061 ms, on graph: \n",
      "Format: DHB, 1 threads, took 4339 ms, on graph: \n",
      "Format: DHB, 1 threads, took 9108 ms, on graph: \n",
      "Format: DHB, 1 threads, took 18414 ms, on graph: \n",
      "Format: DHB, 1 threads, took 39030 ms, on graph: \n",
      "Format: DHB, 1 threads, took 86030 ms, on graph: \n",
      "Format: DHB, 1 threads, took 197597 ms, on graph: \n",
      "Format: DHB, 1 threads, took 5680 ms, on graph: cit-Patents\n",
      "Format: DHB, 1 threads, took 6471 ms, on graph: com-friendster\n",
      "Format: DHB, 1 threads, took 5924 ms, on graph: com-orkut\n",
      "Format: DHB, 1 threads, took 6067 ms, on graph: soc-LiveJournal1\n",
      "Format: DHB, 1 threads, took 80209 ms, on graph: soc-twitter-mpi-sws\n",
      "Format: DHB, 1 threads, took 6678 ms, on graph: tech-p2p\n",
      "Format: DHB, 1 threads, took 4830 ms, on graph: web-BerkStan\n",
      "Format: DHB, 1 threads, took 10114 ms, on graph: web-uk-2005\n",
      "Format: DHB, 1 threads, took 7428 ms, on graph: web-wikipedia_link_en13\n",
      "Format: DHB, 1 threads, took 5517 ms, on graph: wiki-topcats\n",
      "Format: DHB, 1 threads, took 51 ms, on graph: ia-stackexch-user-marks-post-und\n",
      "Format: DHB, 1 threads, took 1344 ms, on graph: rec-epinions-user-ratings\n",
      "Format: DHB, 1 threads, took 48 ms, on graph: soc-epinions-trust-dir\n",
      "Format: DHB, 1 threads, took 3752 ms, on graph: soc-flickr-growth\n",
      "Format: DHB, 1 threads, took 879 ms, on graph: soc-youtube-growth\n",
      "Format: DHB, 1 threads, took 4438 ms, on graph: sx-stackoverflow\n",
      "Format: DHB, 1 threads, took 419 ms, on graph: wiki-talk-temporal\n",
      "Format: DHB, 1 threads, took 115 ms, on graph: ia-stackexch-user-marks-post-und\n",
      "Format: DHB, 1 threads, took 1598 ms, on graph: rec-epinions-user-ratings\n",
      "Format: DHB, 1 threads, took 53 ms, on graph: soc-epinions-trust-dir\n",
      "Format: DHB, 1 threads, took 2657 ms, on graph: soc-flickr-growth\n",
      "Format: DHB, 1 threads, took 505 ms, on graph: soc-youtube-growth\n",
      "Format: DHB, 1 threads, took 5525 ms, on graph: sx-stackoverflow\n",
      "Format: DHB, 1 threads, took 468 ms, on graph: wiki-talk-temporal\n",
      "Format: DHB, 1 threads, took 76 ms, on graph: ia-stackexch-user-marks-post-und\n",
      "Format: DHB, 1 threads, took 1299 ms, on graph: rec-epinions-user-ratings\n",
      "Format: DHB, 1 threads, took 54 ms, on graph: soc-epinions-trust-dir\n",
      "Format: DHB, 1 threads, took 3924 ms, on graph: soc-flickr-growth\n",
      "Format: DHB, 1 threads, took 1060 ms, on graph: soc-youtube-growth\n",
      "Format: DHB, 1 threads, took 5646 ms, on graph: sx-stackoverflow\n",
      "Format: DHB, 1 threads, took 556 ms, on graph: wiki-talk-temporal\n",
      "Format: NetworKit, 1 threads, took 3214 ms, on graph: cit-Patents\n",
      "Format: NetworKit, 1 threads, took 299774 ms, on graph: com-friendster\n",
      "Format: NetworKit, 1 threads, took 28790 ms, on graph: com-orkut\n",
      "Format: NetworKit, 1 threads, took 51912 ms, on graph: soc-LiveJournal1\n",
      "Format: NetworKit, 1 threads, took 40483 ms, on graph: tech-p2p\n",
      "Format: NetworKit, 1 threads, took 2350 ms, on graph: web-BerkStan\n",
      "Format: NetworKit, 1 threads, took 475075 ms, on graph: web-uk-2005\n",
      "Format: NetworKit, 1 threads, took 27409 ms, on graph: wiki-topcats\n",
      "Format: NetworKit, 1 threads, took 5010 ms, on graph: cit-Patents\n",
      "Format: NetworKit, 1 threads, took 710277 ms, on graph: com-friendster\n",
      "Format: NetworKit, 1 threads, took 21699 ms, on graph: com-orkut\n",
      "Format: NetworKit, 1 threads, took 12744 ms, on graph: soc-LiveJournal1\n",
      "Format: NetworKit, 1 threads, took 386002 ms, on graph: soc-twitter-mpi-sws\n",
      "Format: NetworKit, 1 threads, took 26258 ms, on graph: tech-p2p\n",
      "Format: NetworKit, 1 threads, took 530 ms, on graph: web-BerkStan\n",
      "Format: NetworKit, 1 threads, took 61856 ms, on graph: web-uk-2005\n",
      "Format: NetworKit, 1 threads, took 95551 ms, on graph: web-wikipedia_link_en13\n",
      "Format: NetworKit, 1 threads, took 3638 ms, on graph: wiki-topcats\n",
      "Format: NetworKit, 1 threads, took 4941 ms, on graph: cit-Patents\n",
      "Format: NetworKit, 1 threads, took 903990 ms, on graph: com-friendster\n",
      "Format: NetworKit, 1 threads, took 21586 ms, on graph: com-orkut\n",
      "Format: NetworKit, 1 threads, took 12415 ms, on graph: soc-LiveJournal1\n",
      "Format: NetworKit, 1 threads, took 338813 ms, on graph: soc-twitter-mpi-sws\n",
      "Format: NetworKit, 1 threads, took 26184 ms, on graph: tech-p2p\n",
      "Format: NetworKit, 1 threads, took 526 ms, on graph: web-BerkStan\n",
      "Format: NetworKit, 1 threads, took 61959 ms, on graph: web-uk-2005\n",
      "Format: NetworKit, 1 threads, took 94767 ms, on graph: web-wikipedia_link_en13\n",
      "Format: NetworKit, 1 threads, took 3639 ms, on graph: wiki-topcats\n",
      "Format: NetworKit, 1 threads, took 23364 ms, on graph: cit-Patents\n",
      "Format: NetworKit, 1 threads, took 290571 ms, on graph: web-BerkStan\n",
      "Format: NetworKit, 1 threads, took 233 ms, on graph: ia-stackexch-user-marks-post-und\n",
      "Format: NetworKit, 1 threads, took 22912 ms, on graph: rec-epinions-user-ratings\n",
      "Format: NetworKit, 1 threads, took 128 ms, on graph: soc-epinions-trust-dir\n",
      "Format: NetworKit, 1 threads, took 25630 ms, on graph: soc-flickr-growth\n",
      "Format: NetworKit, 1 threads, took 8293 ms, on graph: soc-youtube-growth\n",
      "Format: NetworKit, 1 threads, took 53503 ms, on graph: sx-stackoverflow\n",
      "Format: NetworKit, 1 threads, took 11475 ms, on graph: wiki-talk-temporal\n",
      "Format: NetworKit, 1 threads, took 324 ms, on graph: ia-stackexch-user-marks-post-und\n",
      "Format: NetworKit, 1 threads, took 36249 ms, on graph: rec-epinions-user-ratings\n",
      "Format: NetworKit, 1 threads, took 116 ms, on graph: soc-epinions-trust-dir\n",
      "Format: NetworKit, 1 threads, took 11282 ms, on graph: soc-flickr-growth\n",
      "Format: NetworKit, 1 threads, took 8137 ms, on graph: soc-youtube-growth\n",
      "Format: NetworKit, 1 threads, took 40268 ms, on graph: sx-stackoverflow\n",
      "Format: NetworKit, 1 threads, took 8422 ms, on graph: wiki-talk-temporal\n",
      "Format: NetworKit, 1 threads, took 311 ms, on graph: ia-stackexch-user-marks-post-und\n",
      "Format: NetworKit, 1 threads, took 35241 ms, on graph: rec-epinions-user-ratings\n",
      "Format: NetworKit, 1 threads, took 146 ms, on graph: soc-epinions-trust-dir\n",
      "Format: NetworKit, 1 threads, took 32733 ms, on graph: soc-flickr-growth\n",
      "Format: NetworKit, 1 threads, took 11548 ms, on graph: soc-youtube-growth\n",
      "Format: NetworKit, 1 threads, took 76008 ms, on graph: sx-stackoverflow\n",
      "Format: NetworKit, 1 threads, took 17141 ms, on graph: wiki-talk-temporal\n",
      "Format: NetworKit, 1 threads, took 43104 ms, on graph: cit-Patents\n",
      "Format: NetworKit, 1 threads, took 218072 ms, on graph: com-orkut\n",
      "Format: NetworKit, 1 threads, took 121429 ms, on graph: soc-LiveJournal1\n",
      "Format: NetworKit, 1 threads, took 279247 ms, on graph: tech-p2p\n",
      "Format: NetworKit, 1 threads, took 9569 ms, on graph: web-BerkStan\n",
      "Format: NetworKit, 1 threads, took 1092560 ms, on graph: web-uk-2005\n",
      "Format: NetworKit, 1 threads, took 1289641 ms, on graph: web-wikipedia_link_en13\n",
      "Format: NetworKit, 1 threads, took 55066 ms, on graph: wiki-topcats\n",
      "Format: NetworKit, 1 threads, took 5510 ms, on graph: cit-Patents\n",
      "Format: NetworKit, 1 threads, took 19314 ms, on graph: com-orkut\n",
      "Format: NetworKit, 1 threads, took 8536 ms, on graph: soc-LiveJournal1\n",
      "Format: NetworKit, 1 threads, took 290951 ms, on graph: soc-twitter-mpi-sws\n",
      "Format: NetworKit, 1 threads, took 30817 ms, on graph: tech-p2p\n",
      "Format: NetworKit, 1 threads, took 803 ms, on graph: web-BerkStan\n",
      "Format: NetworKit, 1 threads, took 86847 ms, on graph: web-uk-2005\n",
      "Format: NetworKit, 1 threads, took 119676 ms, on graph: web-wikipedia_link_en13\n",
      "Format: NetworKit, 1 threads, took 4005 ms, on graph: wiki-topcats\n",
      "Format: NetworKit, 1 threads, took 41349 ms, on graph: cit-Patents\n",
      "Format: NetworKit, 1 threads, took 165063 ms, on graph: com-orkut\n",
      "Format: NetworKit, 1 threads, took 130771 ms, on graph: soc-LiveJournal1\n",
      "Format: NetworKit, 1 threads, took 210019 ms, on graph: tech-p2p\n",
      "Format: NetworKit, 1 threads, took 8283 ms, on graph: web-BerkStan\n",
      "Format: NetworKit, 1 threads, took 874970 ms, on graph: web-uk-2005\n",
      "Format: NetworKit, 1 threads, took 965345 ms, on graph: web-wikipedia_link_en13\n",
      "Format: NetworKit, 1 threads, took 46348 ms, on graph: wiki-topcats\n",
      "Format: NetworKit, 1 threads, took 5606 ms, on graph: cit-Patents\n",
      "Format: NetworKit, 1 threads, took 550888 ms, on graph: com-friendster\n",
      "Format: NetworKit, 1 threads, took 18128 ms, on graph: com-orkut\n",
      "Format: NetworKit, 1 threads, took 11605 ms, on graph: soc-LiveJournal1\n",
      "Format: NetworKit, 1 threads, took 291799 ms, on graph: soc-twitter-mpi-sws\n",
      "Format: NetworKit, 1 threads, took 29218 ms, on graph: tech-p2p\n",
      "Format: NetworKit, 1 threads, took 726 ms, on graph: web-BerkStan\n",
      "Format: NetworKit, 1 threads, took 75550 ms, on graph: web-uk-2005\n",
      "Format: NetworKit, 1 threads, took 122724 ms, on graph: web-wikipedia_link_en13\n",
      "Format: NetworKit, 1 threads, took 4027 ms, on graph: wiki-topcats\n",
      "Format: Stinger, 1 threads, took 2500 ms, on graph: cit-Patents\n",
      "Format: Stinger, 1 threads, took 46845 ms, on graph: com-orkut\n",
      "Format: Stinger, 1 threads, took 86580 ms, on graph: soc-LiveJournal1\n",
      "Format: Stinger, 1 threads, took 172137 ms, on graph: tech-p2p\n",
      "Format: Stinger, 1 threads, took 5178 ms, on graph: web-BerkStan\n",
      "Format: Stinger, 1 threads, took 947792 ms, on graph: web-uk-2005\n",
      "Format: Stinger, 1 threads, took 308942 ms, on graph: web-wikipedia_link_en13\n",
      "Format: Stinger, 1 threads, took 49502 ms, on graph: wiki-topcats\n",
      "Format: Stinger, 1 threads, took 4173 ms, on graph: cit-Patents\n",
      "Format: Stinger, 1 threads, took 1348131 ms, on graph: com-friendster\n",
      "Format: Stinger, 1 threads, took 127522 ms, on graph: com-orkut\n",
      "Format: Stinger, 1 threads, took 27144 ms, on graph: soc-LiveJournal1\n",
      "Format: Stinger, 1 threads, took 268991 ms, on graph: tech-p2p\n",
      "Format: Stinger, 1 threads, took 2092 ms, on graph: web-BerkStan\n",
      "Format: Stinger, 1 threads, took 388684 ms, on graph: web-uk-2005\n",
      "Format: Stinger, 1 threads, took 381700 ms, on graph: web-wikipedia_link_en13\n",
      "Format: Stinger, 1 threads, took 9558 ms, on graph: wiki-topcats\n",
      "Format: Stinger, 1 threads, took 17538 ms, on graph: cit-Patents\n",
      "Format: Stinger, 1 threads, took 124425 ms, on graph: soc-LiveJournal1\n",
      "Format: Stinger, 1 threads, took 192995 ms, on graph: web-BerkStan\n",
      "Format: Stinger, 1 threads, took 1130737 ms, on graph: wiki-topcats\n",
      "Format: Stinger, 1 threads, took 4179 ms, on graph: cit-Patents\n",
      "Format: Stinger, 1 threads, took 1344447 ms, on graph: com-friendster\n",
      "Format: Stinger, 1 threads, took 127624 ms, on graph: com-orkut\n",
      "Format: Stinger, 1 threads, took 27191 ms, on graph: soc-LiveJournal1\n",
      "Format: Stinger, 1 threads, took 267539 ms, on graph: tech-p2p\n",
      "Format: Stinger, 1 threads, took 2094 ms, on graph: web-BerkStan\n",
      "Format: Stinger, 1 threads, took 400699 ms, on graph: web-uk-2005\n",
      "Format: Stinger, 1 threads, took 382202 ms, on graph: web-wikipedia_link_en13\n",
      "Format: Stinger, 1 threads, took 9544 ms, on graph: wiki-topcats\n",
      "Format: Stinger, 1 threads, took 35746 ms, on graph: cit-Patents\n",
      "Format: Stinger, 1 threads, took 994 ms, on graph: ia-stackexch-user-marks-post-und\n",
      "Format: Stinger, 1 threads, took 1308490 ms, on graph: rec-epinions-user-ratings\n",
      "Format: Stinger, 1 threads, took 517 ms, on graph: soc-epinions-trust-dir\n",
      "Format: Stinger, 1 threads, took 69008 ms, on graph: soc-flickr-growth\n",
      "Format: Stinger, 1 threads, took 61395 ms, on graph: soc-youtube-growth\n",
      "Format: Stinger, 1 threads, took 479076 ms, on graph: sx-stackoverflow\n",
      "Format: Stinger, 1 threads, took 137216 ms, on graph: wiki-talk-temporal\n",
      "Format: Stinger, 1 threads, took 352 ms, on graph: ia-stackexch-user-marks-post-und\n",
      "Format: Stinger, 1 threads, took 395 ms, on graph: soc-epinions-trust-dir\n",
      "Format: Stinger, 1 threads, took 131197 ms, on graph: soc-flickr-growth\n",
      "Format: Stinger, 1 threads, took 104349 ms, on graph: soc-youtube-growth\n",
      "Format: Stinger, 1 threads, took 389540 ms, on graph: sx-stackoverflow\n",
      "Format: Stinger, 1 threads, took 62437 ms, on graph: wiki-talk-temporal\n",
      "Format: aspen, 2 threads, took 718 ms, on graph: cit-Patents\n",
      "Format: aspen, 2 threads, took 66869 ms, on graph: com-friendster\n",
      "Format: aspen, 2 threads, took 3768 ms, on graph: com-orkut\n",
      "Format: aspen, 2 threads, took 2528 ms, on graph: soc-LiveJournal1\n",
      "Format: aspen, 2 threads, took 52842 ms, on graph: soc-twitter-mpi-sws\n",
      "Format: aspen, 2 threads, took 5308 ms, on graph: tech-p2p\n",
      "Format: aspen, 2 threads, took 271 ms, on graph: web-BerkStan\n",
      "Format: aspen, 2 threads, took 32011 ms, on graph: web-uk-2005\n",
      "Format: aspen, 2 threads, took 22554 ms, on graph: web-wikipedia_link_en13\n",
      "Format: aspen, 2 threads, took 1064 ms, on graph: wiki-topcats\n",
      "Format: DHB, 2 threads, took 449 ms, on graph: cit-Patents\n",
      "Format: DHB, 2 threads, took 71109 ms, on graph: com-friendster\n",
      "Format: DHB, 2 threads, took 3760 ms, on graph: com-orkut\n",
      "Format: DHB, 2 threads, took 2093 ms, on graph: soc-LiveJournal1\n",
      "Format: DHB, 2 threads, took 54870 ms, on graph: soc-twitter-mpi-sws\n",
      "Format: DHB, 2 threads, took 9994 ms, on graph: tech-p2p\n",
      "Format: DHB, 2 threads, took 214 ms, on graph: web-BerkStan\n",
      "Format: DHB, 2 threads, took 39386 ms, on graph: web-uk-2005\n",
      "Format: DHB, 2 threads, took 18535 ms, on graph: web-wikipedia_link_en13\n",
      "Format: DHB, 2 threads, took 797 ms, on graph: wiki-topcats\n",
      "Format: Stinger, 2 threads, took 4261 ms, on graph: cit-Patents\n",
      "Format: Stinger, 2 threads, took 107651 ms, on graph: com-orkut\n",
      "Format: Stinger, 2 threads, took 27660 ms, on graph: soc-LiveJournal1\n",
      "Format: Stinger, 2 threads, took 160850 ms, on graph: tech-p2p\n",
      "Format: Stinger, 2 threads, took 2297 ms, on graph: web-BerkStan\n",
      "Format: Stinger, 2 threads, took 250183 ms, on graph: web-uk-2005\n",
      "Format: Stinger, 2 threads, took 370882 ms, on graph: web-wikipedia_link_en13\n",
      "Format: Stinger, 2 threads, took 11008 ms, on graph: wiki-topcats\n",
      "Format: aspen, 4 threads, took 403 ms, on graph: cit-Patents\n",
      "Format: aspen, 4 threads, took 38511 ms, on graph: com-friendster\n",
      "Format: aspen, 4 threads, took 2165 ms, on graph: com-orkut\n",
      "Format: aspen, 4 threads, took 1432 ms, on graph: soc-LiveJournal1\n",
      "Format: aspen, 4 threads, took 30729 ms, on graph: soc-twitter-mpi-sws\n",
      "Format: aspen, 4 threads, took 3118 ms, on graph: tech-p2p\n",
      "Format: aspen, 4 threads, took 154 ms, on graph: web-BerkStan\n",
      "Format: aspen, 4 threads, took 18986 ms, on graph: web-uk-2005\n",
      "Format: aspen, 4 threads, took 13170 ms, on graph: web-wikipedia_link_en13\n",
      "Format: aspen, 4 threads, took 595 ms, on graph: wiki-topcats\n",
      "Format: DHB, 4 threads, took 240 ms, on graph: cit-Patents\n",
      "Format: DHB, 4 threads, took 38147 ms, on graph: com-friendster\n",
      "Format: DHB, 4 threads, took 2016 ms, on graph: com-orkut\n",
      "Format: DHB, 4 threads, took 1164 ms, on graph: soc-LiveJournal1\n",
      "Format: DHB, 4 threads, took 30686 ms, on graph: soc-twitter-mpi-sws\n",
      "Format: DHB, 4 threads, took 5333 ms, on graph: tech-p2p\n",
      "Format: DHB, 4 threads, took 116 ms, on graph: web-BerkStan\n",
      "Format: DHB, 4 threads, took 22320 ms, on graph: web-uk-2005\n",
      "Format: DHB, 4 threads, took 9971 ms, on graph: web-wikipedia_link_en13\n",
      "Format: DHB, 4 threads, took 408 ms, on graph: wiki-topcats\n",
      "Format: Stinger, 4 threads, took 2218 ms, on graph: cit-Patents\n",
      "Format: Stinger, 4 threads, took 760669 ms, on graph: com-friendster\n",
      "Format: Stinger, 4 threads, took 85667 ms, on graph: com-orkut\n",
      "Format: Stinger, 4 threads, took 17008 ms, on graph: soc-LiveJournal1\n",
      "Format: Stinger, 4 threads, took 104209 ms, on graph: tech-p2p\n",
      "Format: Stinger, 4 threads, took 1090 ms, on graph: web-BerkStan\n",
      "Format: Stinger, 4 threads, took 138882 ms, on graph: web-uk-2005\n",
      "Format: Stinger, 4 threads, took 183984 ms, on graph: web-wikipedia_link_en13\n",
      "Format: Stinger, 4 threads, took 5517 ms, on graph: wiki-topcats\n",
      "Format: aspen, 8 threads, took 244 ms, on graph: cit-Patents\n",
      "Format: aspen, 8 threads, took 23485 ms, on graph: com-friendster\n",
      "Format: aspen, 8 threads, took 1488 ms, on graph: com-orkut\n",
      "Format: aspen, 8 threads, took 893 ms, on graph: soc-LiveJournal1\n",
      "Format: aspen, 8 threads, took 19487 ms, on graph: soc-twitter-mpi-sws\n",
      "Format: aspen, 8 threads, took 1983 ms, on graph: tech-p2p\n",
      "Format: aspen, 8 threads, took 98 ms, on graph: web-BerkStan\n",
      "Format: aspen, 8 threads, took 12029 ms, on graph: web-uk-2005\n",
      "Format: aspen, 8 threads, took 7892 ms, on graph: web-wikipedia_link_en13\n",
      "Format: aspen, 8 threads, took 401 ms, on graph: wiki-topcats\n",
      "Format: DHB, 8 threads, took 147 ms, on graph: cit-Patents\n",
      "Format: DHB, 8 threads, took 22233 ms, on graph: com-friendster\n",
      "Format: DHB, 8 threads, took 1147 ms, on graph: com-orkut\n",
      "Format: DHB, 8 threads, took 673 ms, on graph: soc-LiveJournal1\n",
      "Format: DHB, 8 threads, took 18167 ms, on graph: soc-twitter-mpi-sws\n",
      "Format: DHB, 8 threads, took 3080 ms, on graph: tech-p2p\n",
      "Format: DHB, 8 threads, took 78 ms, on graph: web-BerkStan\n",
      "Format: DHB, 8 threads, took 14521 ms, on graph: web-uk-2005\n",
      "Format: DHB, 8 threads, took 5999 ms, on graph: web-wikipedia_link_en13\n",
      "Format: DHB, 8 threads, took 246 ms, on graph: wiki-topcats\n",
      "Format: Stinger, 8 threads, took 1183 ms, on graph: cit-Patents\n",
      "Format: Stinger, 8 threads, took 359141 ms, on graph: com-friendster\n",
      "Format: Stinger, 8 threads, took 64736 ms, on graph: com-orkut\n",
      "Format: Stinger, 8 threads, took 10066 ms, on graph: soc-LiveJournal1\n",
      "Format: Stinger, 8 threads, took 62098 ms, on graph: tech-p2p\n",
      "Format: Stinger, 8 threads, took 534 ms, on graph: web-BerkStan\n",
      "Format: Stinger, 8 threads, took 91990 ms, on graph: web-uk-2005\n",
      "Format: Stinger, 8 threads, took 96950 ms, on graph: web-wikipedia_link_en13\n",
      "Format: Stinger, 8 threads, took 2695 ms, on graph: wiki-topcats\n",
      "Format: aspen, 16 threads, took 171 ms, on graph: cit-Patents\n",
      "Format: aspen, 16 threads, took 17108 ms, on graph: com-friendster\n",
      "Format: aspen, 16 threads, took 1100 ms, on graph: com-orkut\n",
      "Format: aspen, 16 threads, took 636 ms, on graph: soc-LiveJournal1\n",
      "Format: aspen, 16 threads, took 14207 ms, on graph: soc-twitter-mpi-sws\n",
      "Format: aspen, 16 threads, took 1371 ms, on graph: tech-p2p\n",
      "Format: aspen, 16 threads, took 73 ms, on graph: web-BerkStan\n",
      "Format: aspen, 16 threads, took 8712 ms, on graph: web-uk-2005\n",
      "Format: aspen, 16 threads, took 5735 ms, on graph: web-wikipedia_link_en13\n",
      "Format: aspen, 16 threads, took 270 ms, on graph: wiki-topcats\n",
      "Format: DHB, 16 threads, took 129 ms, on graph: cit-Patents\n",
      "Format: DHB, 16 threads, took 15472 ms, on graph: com-friendster\n",
      "Format: DHB, 16 threads, took 881 ms, on graph: com-orkut\n",
      "Format: DHB, 16 threads, took 486 ms, on graph: soc-LiveJournal1\n",
      "Format: DHB, 16 threads, took 11453 ms, on graph: soc-twitter-mpi-sws\n",
      "Format: DHB, 16 threads, took 2092 ms, on graph: tech-p2p\n",
      "Format: DHB, 16 threads, took 68 ms, on graph: web-BerkStan\n",
      "Format: DHB, 16 threads, took 9100 ms, on graph: web-uk-2005\n",
      "Format: DHB, 16 threads, took 4319 ms, on graph: web-wikipedia_link_en13\n",
      "Format: DHB, 16 threads, took 186 ms, on graph: wiki-topcats\n",
      "Format: Stinger, 16 threads, took 771 ms, on graph: cit-Patents\n",
      "Format: Stinger, 16 threads, took 178746 ms, on graph: com-friendster\n",
      "Format: Stinger, 16 threads, took 43427 ms, on graph: com-orkut\n",
      "Format: Stinger, 16 threads, took 6205 ms, on graph: soc-LiveJournal1\n",
      "Format: Stinger, 16 threads, took 33831 ms, on graph: tech-p2p\n",
      "Format: Stinger, 16 threads, took 375 ms, on graph: web-BerkStan\n",
      "Format: Stinger, 16 threads, took 69566 ms, on graph: web-uk-2005\n",
      "Format: Stinger, 16 threads, took 54484 ms, on graph: web-wikipedia_link_en13\n",
      "Format: Stinger, 16 threads, took 1616 ms, on graph: wiki-topcats\n",
      "Format: aspen, 18 threads, took 163 ms, on graph: cit-Patents\n",
      "Format: aspen, 18 threads, took 16823 ms, on graph: com-friendster\n",
      "Format: aspen, 18 threads, took 964 ms, on graph: com-orkut\n",
      "Format: aspen, 18 threads, took 610 ms, on graph: soc-LiveJournal1\n",
      "Format: aspen, 18 threads, took 14073 ms, on graph: soc-twitter-mpi-sws\n",
      "Format: aspen, 18 threads, took 1291 ms, on graph: tech-p2p\n",
      "Format: aspen, 18 threads, took 67 ms, on graph: web-BerkStan\n",
      "Format: aspen, 18 threads, took 8437 ms, on graph: web-uk-2005\n",
      "Format: aspen, 18 threads, took 5568 ms, on graph: web-wikipedia_link_en13\n",
      "Format: aspen, 18 threads, took 255 ms, on graph: wiki-topcats\n",
      "Format: DHB, 18 threads, took 126 ms, on graph: cit-Patents\n",
      "Format: DHB, 18 threads, took 16326 ms, on graph: com-friendster\n",
      "Format: DHB, 18 threads, took 778 ms, on graph: com-orkut\n",
      "Format: DHB, 18 threads, took 491 ms, on graph: soc-LiveJournal1\n",
      "Format: DHB, 18 threads, took 12378 ms, on graph: soc-twitter-mpi-sws\n",
      "Format: DHB, 18 threads, took 1910 ms, on graph: tech-p2p\n",
      "Format: DHB, 18 threads, took 75 ms, on graph: web-BerkStan\n",
      "Format: DHB, 18 threads, took 8604 ms, on graph: web-uk-2005\n",
      "Format: DHB, 18 threads, took 4068 ms, on graph: web-wikipedia_link_en13\n",
      "Format: DHB, 18 threads, took 190 ms, on graph: wiki-topcats\n",
      "Format: Stinger, 18 threads, took 756 ms, on graph: cit-Patents\n",
      "Format: Stinger, 18 threads, took 160767 ms, on graph: com-friendster\n",
      "Format: Stinger, 18 threads, took 36569 ms, on graph: com-orkut\n",
      "Format: Stinger, 18 threads, took 5937 ms, on graph: soc-LiveJournal1\n",
      "Format: Stinger, 18 threads, took 31898 ms, on graph: tech-p2p\n",
      "Format: Stinger, 18 threads, took 364 ms, on graph: web-BerkStan\n",
      "Format: Stinger, 18 threads, took 75327 ms, on graph: web-uk-2005\n",
      "Format: Stinger, 18 threads, took 51272 ms, on graph: web-wikipedia_link_en13\n",
      "Format: Stinger, 18 threads, took 1450 ms, on graph: wiki-topcats\n",
      "Format: aspen, 36 threads, took 1902 ms, on graph: cit-Patents\n",
      "Format: aspen, 36 threads, took 193129 ms, on graph: com-friendster\n",
      "Format: aspen, 36 threads, took 6698 ms, on graph: soc-LiveJournal1\n",
      "Format: aspen, 36 threads, took 797 ms, on graph: web-BerkStan\n",
      "Format: aspen, 36 threads, took 2921 ms, on graph: wiki-topcats\n",
      "Format: aspen, 36 threads, took 7691 ms, on graph: cit-Patents\n",
      "Format: aspen, 36 threads, took 657809 ms, on graph: com-friendster\n",
      "Format: aspen, 36 threads, took 23828 ms, on graph: soc-LiveJournal1\n",
      "Format: aspen, 36 threads, took 2769 ms, on graph: web-BerkStan\n",
      "Format: aspen, 36 threads, took 10201 ms, on graph: wiki-topcats\n",
      "Format: aspen, 36 threads, took 207 ms, on graph: cit-Patents\n",
      "Format: aspen, 36 threads, took 22932 ms, on graph: com-friendster\n",
      "Format: aspen, 36 threads, took 788 ms, on graph: soc-LiveJournal1\n",
      "Format: aspen, 36 threads, took 132 ms, on graph: web-BerkStan\n",
      "Format: aspen, 36 threads, took 666 ms, on graph: wiki-topcats\n",
      "Format: aspen, 36 threads, took 395 ms, on graph: cit-Patents\n",
      "Format: aspen, 36 threads, took 43157 ms, on graph: com-friendster\n",
      "Format: aspen, 36 threads, took 1477 ms, on graph: soc-LiveJournal1\n",
      "Format: aspen, 36 threads, took 177 ms, on graph: web-BerkStan\n",
      "Format: aspen, 36 threads, took 631 ms, on graph: wiki-topcats\n",
      "Format: aspen, 36 threads, took 1382 ms, on graph: cit-Patents\n",
      "Format: aspen, 36 threads, took 137749 ms, on graph: com-friendster\n",
      "Format: aspen, 36 threads, took 4854 ms, on graph: soc-LiveJournal1\n",
      "Format: aspen, 36 threads, took 566 ms, on graph: web-BerkStan\n",
      "Format: aspen, 36 threads, took 2008 ms, on graph: wiki-topcats\n",
      "Format: aspen, 36 threads, took 4709 ms, on graph: cit-Patents\n",
      "Format: aspen, 36 threads, took 402474 ms, on graph: com-friendster\n",
      "Format: aspen, 36 threads, took 15108 ms, on graph: soc-LiveJournal1\n",
      "Format: aspen, 36 threads, took 1795 ms, on graph: web-BerkStan\n",
      "Format: aspen, 36 threads, took 6466 ms, on graph: wiki-topcats\n",
      "Format: aspen, 36 threads, took 304 ms, on graph: cit-Patents\n",
      "Format: aspen, 36 threads, took 33017 ms, on graph: com-friendster\n",
      "Format: aspen, 36 threads, took 1148 ms, on graph: soc-LiveJournal1\n",
      "Format: aspen, 36 threads, took 134 ms, on graph: web-BerkStan\n",
      "Format: aspen, 36 threads, took 482 ms, on graph: wiki-topcats\n",
      "Format: aspen, 36 threads, took 983 ms, on graph: cit-Patents\n",
      "Format: aspen, 36 threads, took 104878 ms, on graph: com-friendster\n",
      "Format: aspen, 36 threads, took 3729 ms, on graph: soc-LiveJournal1\n",
      "Format: aspen, 36 threads, took 448 ms, on graph: web-BerkStan\n",
      "Format: aspen, 36 threads, took 1586 ms, on graph: wiki-topcats\n",
      "Format: aspen, 36 threads, took 3058 ms, on graph: cit-Patents\n",
      "Format: aspen, 36 threads, took 289527 ms, on graph: com-friendster\n",
      "Format: aspen, 36 threads, took 10276 ms, on graph: soc-LiveJournal1\n",
      "Format: aspen, 36 threads, took 1187 ms, on graph: web-BerkStan\n",
      "Format: aspen, 36 threads, took 4407 ms, on graph: wiki-topcats\n",
      "Format: aspen, 36 threads, took 11916 ms, on graph: cit-Patents\n",
      "Format: aspen, 36 threads, took 1171414 ms, on graph: com-friendster\n",
      "Format: aspen, 36 threads, took 40134 ms, on graph: soc-LiveJournal1\n",
      "Format: aspen, 36 threads, took 4495 ms, on graph: web-BerkStan\n",
      "Format: aspen, 36 threads, took 16365 ms, on graph: wiki-topcats\n",
      "Format: aspen, 36 threads, took 247 ms, on graph: cit-Patents\n",
      "Format: aspen, 36 threads, took 26521 ms, on graph: com-friendster\n",
      "Format: aspen, 36 threads, took 910 ms, on graph: soc-LiveJournal1\n",
      "Format: aspen, 36 threads, took 245 ms, on graph: web-BerkStan\n",
      "Format: aspen, 36 threads, took 383 ms, on graph: wiki-topcats\n",
      "Format: aspen, 36 threads, took 680 ms, on graph: cit-Patents\n",
      "Format: aspen, 36 threads, took 73909 ms, on graph: com-friendster\n",
      "Format: aspen, 36 threads, took 2609 ms, on graph: soc-LiveJournal1\n",
      "Format: aspen, 36 threads, took 321 ms, on graph: web-BerkStan\n",
      "Format: aspen, 36 threads, took 1099 ms, on graph: wiki-topcats\n",
      "Format: aspen, 36 threads, took 141 ms, on graph: cit-Patents\n",
      "Format: aspen, 36 threads, took 14353 ms, on graph: com-friendster\n",
      "Format: aspen, 36 threads, took 909 ms, on graph: com-orkut\n",
      "Format: aspen, 36 threads, took 555 ms, on graph: soc-LiveJournal1\n",
      "Format: aspen, 36 threads, took 12114 ms, on graph: soc-twitter-mpi-sws\n",
      "Format: aspen, 36 threads, took 1174 ms, on graph: tech-p2p\n",
      "Format: aspen, 36 threads, took 61 ms, on graph: web-BerkStan\n",
      "Format: aspen, 36 threads, took 7373 ms, on graph: web-uk-2005\n",
      "Format: aspen, 36 threads, took 4797 ms, on graph: web-wikipedia_link_en13\n",
      "Format: aspen, 36 threads, took 227 ms, on graph: wiki-topcats\n",
      "Format: DHB, 36 threads, took 1668 ms, on graph: cit-Patents\n",
      "Format: DHB, 36 threads, took 177945 ms, on graph: com-friendster\n",
      "Format: DHB, 36 threads, took 6453 ms, on graph: soc-LiveJournal1\n",
      "Format: DHB, 36 threads, took 674 ms, on graph: web-BerkStan\n",
      "Format: DHB, 36 threads, took 2752 ms, on graph: wiki-topcats\n",
      "Format: DHB, 36 threads, took 10759 ms, on graph: cit-Patents\n",
      "Format: DHB, 36 threads, took 1293786 ms, on graph: com-friendster\n",
      "Format: DHB, 36 threads, took 44730 ms, on graph: soc-LiveJournal1\n",
      "Format: DHB, 36 threads, took 4140 ms, on graph: web-BerkStan\n",
      "Format: DHB, 36 threads, took 19029 ms, on graph: wiki-topcats\n",
      "Format: DHB, 36 threads, took 204 ms, on graph: cit-Patents\n",
      "Format: DHB, 36 threads, took 15720 ms, on graph: com-friendster\n",
      "Format: DHB, 36 threads, took 634 ms, on graph: soc-LiveJournal1\n",
      "Format: DHB, 36 threads, took 111 ms, on graph: web-BerkStan\n",
      "Format: DHB, 36 threads, took 344 ms, on graph: wiki-topcats\n",
      "Format: DHB, 36 threads, took 291 ms, on graph: cit-Patents\n",
      "Format: DHB, 36 threads, took 24446 ms, on graph: com-friendster\n",
      "Format: DHB, 36 threads, took 1054 ms, on graph: soc-LiveJournal1\n",
      "Format: DHB, 36 threads, took 137 ms, on graph: web-BerkStan\n",
      "Format: DHB, 36 threads, took 486 ms, on graph: wiki-topcats\n",
      "Format: DHB, 36 threads, took 906 ms, on graph: cit-Patents\n",
      "Format: DHB, 36 threads, took 89357 ms, on graph: com-friendster\n",
      "Format: DHB, 36 threads, took 3815 ms, on graph: soc-LiveJournal1\n",
      "Format: DHB, 36 threads, took 424 ms, on graph: web-BerkStan\n",
      "Format: DHB, 36 threads, took 1548 ms, on graph: wiki-topcats\n",
      "Format: DHB, 36 threads, took 5590 ms, on graph: cit-Patents\n",
      "Format: DHB, 36 threads, took 627655 ms, on graph: com-friendster\n",
      "Format: DHB, 36 threads, took 24223 ms, on graph: soc-LiveJournal1\n",
      "Format: DHB, 36 threads, took 2049 ms, on graph: web-BerkStan\n",
      "Format: DHB, 36 threads, took 9577 ms, on graph: wiki-topcats\n",
      "Format: DHB, 36 threads, took 231 ms, on graph: cit-Patents\n",
      "Format: DHB, 36 threads, took 22236 ms, on graph: com-friendster\n",
      "Format: DHB, 36 threads, took 991 ms, on graph: soc-LiveJournal1\n",
      "Format: DHB, 36 threads, took 102 ms, on graph: web-BerkStan\n",
      "Format: DHB, 36 threads, took 393 ms, on graph: wiki-topcats\n",
      "Format: DHB, 36 threads, took 608 ms, on graph: cit-Patents\n",
      "Format: DHB, 36 threads, took 65410 ms, on graph: com-friendster\n",
      "Format: DHB, 36 threads, took 2328 ms, on graph: soc-LiveJournal1\n",
      "Format: DHB, 36 threads, took 242 ms, on graph: web-BerkStan\n",
      "Format: DHB, 36 threads, took 1040 ms, on graph: wiki-topcats\n",
      "Format: DHB, 36 threads, took 2937 ms, on graph: cit-Patents\n",
      "Format: DHB, 36 threads, took 321176 ms, on graph: com-friendster\n",
      "Format: DHB, 36 threads, took 12089 ms, on graph: soc-LiveJournal1\n",
      "Format: DHB, 36 threads, took 1525 ms, on graph: web-BerkStan\n",
      "Format: DHB, 36 threads, took 5624 ms, on graph: wiki-topcats\n",
      "Format: DHB, 36 threads, took 21553 ms, on graph: cit-Patents\n",
      "Format: DHB, 36 threads, took 90560 ms, on graph: soc-LiveJournal1\n",
      "Format: DHB, 36 threads, took 7764 ms, on graph: web-BerkStan\n",
      "Format: DHB, 36 threads, took 36931 ms, on graph: wiki-topcats\n",
      "Format: DHB, 36 threads, took 217 ms, on graph: cit-Patents\n",
      "Format: DHB, 36 threads, took 21593 ms, on graph: com-friendster\n",
      "Format: DHB, 36 threads, took 690 ms, on graph: soc-LiveJournal1\n",
      "Format: DHB, 36 threads, took 113 ms, on graph: web-BerkStan\n",
      "Format: DHB, 36 threads, took 314 ms, on graph: wiki-topcats\n",
      "Format: DHB, 36 threads, took 392 ms, on graph: cit-Patents\n",
      "Format: DHB, 36 threads, took 39287 ms, on graph: com-friendster\n",
      "Format: DHB, 36 threads, took 2810 ms, on graph: soc-LiveJournal1\n",
      "Format: DHB, 36 threads, took 191 ms, on graph: web-BerkStan\n",
      "Format: DHB, 36 threads, took 659 ms, on graph: wiki-topcats\n",
      "Format: DHB, 36 threads, took 168 ms, on graph: cit-Patents\n",
      "Format: DHB, 36 threads, took 14463 ms, on graph: com-friendster\n",
      "Format: DHB, 36 threads, took 1136 ms, on graph: com-orkut\n",
      "Format: DHB, 36 threads, took 596 ms, on graph: soc-LiveJournal1\n",
      "Format: DHB, 36 threads, took 10307 ms, on graph: soc-twitter-mpi-sws\n",
      "Format: DHB, 36 threads, took 1678 ms, on graph: tech-p2p\n",
      "Format: DHB, 36 threads, took 87 ms, on graph: web-BerkStan\n",
      "Format: DHB, 36 threads, took 7583 ms, on graph: web-uk-2005\n",
      "Format: DHB, 36 threads, took 5112 ms, on graph: web-wikipedia_link_en13\n",
      "Format: DHB, 36 threads, took 233 ms, on graph: wiki-topcats\n",
      "Format: Stinger, 36 threads, took 1452 ms, on graph: cit-Patents\n",
      "Format: Stinger, 36 threads, took 22846 ms, on graph: soc-LiveJournal1\n",
      "Format: Stinger, 36 threads, took 804 ms, on graph: web-BerkStan\n",
      "Format: Stinger, 36 threads, took 7160 ms, on graph: wiki-topcats\n",
      "Format: Stinger, 36 threads, took 6747 ms, on graph: cit-Patents\n",
      "Format: Stinger, 36 threads, took 91812 ms, on graph: soc-LiveJournal1\n",
      "Format: Stinger, 36 threads, took 5069 ms, on graph: web-BerkStan\n",
      "Format: Stinger, 36 threads, took 31621 ms, on graph: wiki-topcats\n",
      "Format: Stinger, 36 threads, took 716 ms, on graph: cit-Patents\n",
      "Format: Stinger, 36 threads, took 233504 ms, on graph: com-friendster\n",
      "Format: Stinger, 36 threads, took 4315 ms, on graph: soc-LiveJournal1\n",
      "Format: Stinger, 36 threads, took 334 ms, on graph: web-BerkStan\n",
      "Format: Stinger, 36 threads, took 1648 ms, on graph: wiki-topcats\n",
      "Format: Stinger, 36 threads, took 798 ms, on graph: cit-Patents\n",
      "Format: Stinger, 36 threads, took 450671 ms, on graph: com-friendster\n",
      "Format: Stinger, 36 threads, took 5335 ms, on graph: soc-LiveJournal1\n",
      "Format: Stinger, 36 threads, took 367 ms, on graph: web-BerkStan\n",
      "Format: Stinger, 36 threads, took 2100 ms, on graph: wiki-topcats\n",
      "Format: Stinger, 36 threads, took 1090 ms, on graph: cit-Patents\n",
      "Format: Stinger, 36 threads, took 1169891 ms, on graph: com-friendster\n",
      "Format: Stinger, 36 threads, took 11910 ms, on graph: soc-LiveJournal1\n",
      "Format: Stinger, 36 threads, took 506 ms, on graph: web-BerkStan\n",
      "Format: Stinger, 36 threads, took 5099 ms, on graph: wiki-topcats\n",
      "Format: Stinger, 36 threads, took 3887 ms, on graph: cit-Patents\n",
      "Format: Stinger, 36 threads, took 59244 ms, on graph: soc-LiveJournal1\n",
      "Format: Stinger, 36 threads, took 2857 ms, on graph: web-BerkStan\n",
      "Format: Stinger, 36 threads, took 20057 ms, on graph: wiki-topcats\n",
      "Format: Stinger, 36 threads, took 764 ms, on graph: cit-Patents\n",
      "Format: Stinger, 36 threads, took 346998 ms, on graph: com-friendster\n",
      "Format: Stinger, 36 threads, took 4299 ms, on graph: soc-LiveJournal1\n",
      "Format: Stinger, 36 threads, took 351 ms, on graph: web-BerkStan\n",
      "Format: Stinger, 36 threads, took 1877 ms, on graph: wiki-topcats\n",
      "Format: Stinger, 36 threads, took 929 ms, on graph: cit-Patents\n",
      "Format: Stinger, 36 threads, took 800493 ms, on graph: com-friendster\n",
      "Format: Stinger, 36 threads, took 7915 ms, on graph: soc-LiveJournal1\n",
      "Format: Stinger, 36 threads, took 420 ms, on graph: web-BerkStan\n",
      "Format: Stinger, 36 threads, took 2977 ms, on graph: wiki-topcats\n",
      "Format: Stinger, 36 threads, took 2259 ms, on graph: cit-Patents\n",
      "Format: Stinger, 36 threads, took 42619 ms, on graph: soc-LiveJournal1\n",
      "Format: Stinger, 36 threads, took 1474 ms, on graph: web-BerkStan\n",
      "Format: Stinger, 36 threads, took 12078 ms, on graph: wiki-topcats\n",
      "Format: Stinger, 36 threads, took 11738 ms, on graph: cit-Patents\n",
      "Format: Stinger, 36 threads, took 120376 ms, on graph: soc-LiveJournal1\n",
      "Format: Stinger, 36 threads, took 8190 ms, on graph: web-BerkStan\n",
      "Format: Stinger, 36 threads, took 46177 ms, on graph: wiki-topcats\n",
      "Format: Stinger, 36 threads, took 751 ms, on graph: cit-Patents\n",
      "Format: Stinger, 36 threads, took 277244 ms, on graph: com-friendster\n",
      "Format: Stinger, 36 threads, took 4325 ms, on graph: soc-LiveJournal1\n",
      "Format: Stinger, 36 threads, took 343 ms, on graph: web-BerkStan\n",
      "Format: Stinger, 36 threads, took 1739 ms, on graph: wiki-topcats\n",
      "Format: Stinger, 36 threads, took 851 ms, on graph: cit-Patents\n",
      "Format: Stinger, 36 threads, took 631619 ms, on graph: com-friendster\n",
      "Format: Stinger, 36 threads, took 6244 ms, on graph: soc-LiveJournal1\n",
      "Format: Stinger, 36 threads, took 387 ms, on graph: web-BerkStan\n",
      "Format: Stinger, 36 threads, took 2341 ms, on graph: wiki-topcats\n",
      "Format: Stinger, 36 threads, took 709 ms, on graph: cit-Patents\n",
      "Format: Stinger, 36 threads, took 166110 ms, on graph: com-friendster\n",
      "Format: Stinger, 36 threads, took 33415 ms, on graph: com-orkut\n",
      "Format: Stinger, 36 threads, took 4423 ms, on graph: soc-LiveJournal1\n",
      "Format: Stinger, 36 threads, took 20612 ms, on graph: tech-p2p\n",
      "Format: Stinger, 36 threads, took 312 ms, on graph: web-BerkStan\n",
      "Format: Stinger, 36 threads, took 60947 ms, on graph: web-uk-2005\n",
      "Format: Stinger, 36 threads, took 33810 ms, on graph: web-wikipedia_link_en13\n",
      "Format: Stinger, 36 threads, took 1246 ms, on graph: wiki-topcats\n"
     ]
    }
   ],
   "source": [
    "for r in sorted(results, key=lambda r: r['threads']):\n",
    "    print('Format: {}, {} threads, took {} ms, on graph: {}'.format(\n",
    "          r['format'], r['threads'], r['duration_ms'], r['graph']))"
   ]
  },
  {
   "cell_type": "code",
   "execution_count": 6,
   "metadata": {},
   "outputs": [],
   "source": [
    "def extract(ds, algo, key, sort_by):\n",
    "    res = []\n",
    "    for r in sorted(results, key=lambda line: line[sort_by]):\n",
    "        if r['algo'] != algo or r['format'] != ds:\n",
    "            continue\n",
    "        res.append(r[key])\n",
    "    return res"
   ]
  },
  {
   "cell_type": "code",
   "execution_count": 7,
   "metadata": {},
   "outputs": [],
   "source": [
    "def extract_filtered(filterlist, key, sort_by):\n",
    "    res = []\n",
    "    for r in sorted(results, key=lambda line: line[sort_by]):\n",
    "        for k, d in filterlist:\n",
    "            if r[k] != d:\n",
    "                continue\n",
    "        res.append(r[key])\n",
    "    return res"
   ]
  },
  {
   "cell_type": "code",
   "execution_count": 8,
   "metadata": {},
   "outputs": [],
   "source": [
    "def extractSingleThread(ds, algo, key, sort_by):\n",
    "    res = []\n",
    "    for r in sorted(results, key=lambda line: line[sort_by]):\n",
    "        if r['algo'] != algo or r['format'] != ds or r['threads'] != 1:\n",
    "            continue\n",
    "        res.append(r[key])\n",
    "    return res"
   ]
  },
  {
   "cell_type": "code",
   "execution_count": 9,
   "metadata": {},
   "outputs": [],
   "source": [
    "def extractSingleThreadIR(ds, insertion_routine, key, sort_by):\n",
    "    res = []\n",
    "    for r in sorted(results, key=lambda line: line[sort_by]):\n",
    "        if r['insertion_routine'] != insertion_routine or r['format'] != ds or r['threads'] != 1:\n",
    "            continue\n",
    "        res.append(r[key])\n",
    "    return res"
   ]
  },
  {
   "cell_type": "code",
   "execution_count": 10,
   "metadata": {},
   "outputs": [],
   "source": [
    "def extractThreadTuple(ds, algo, key, sort_by):\n",
    "    res = []\n",
    "    for r in sorted(results, key=lambda line: line[sort_by]):\n",
    "        if r['algo'] != algo or r['format'] != ds:\n",
    "            continue\n",
    "        res.append((r['threads'], r[key]))\n",
    "    return res"
   ]
  },
  {
   "cell_type": "code",
   "execution_count": 11,
   "metadata": {},
   "outputs": [],
   "source": [
    "def extractThreadTupleIR(ds, insertion_routine, key, sort_by):\n",
    "    res = []\n",
    "    for r in sorted(results, key=lambda line: line[sort_by]):\n",
    "        if r['insertion_routine'] != insertion_routine or r['format'] != ds:\n",
    "            continue\n",
    "        res.append((r['threads'], r[key]))\n",
    "    return res"
   ]
  },
  {
   "cell_type": "code",
   "execution_count": 12,
   "metadata": {},
   "outputs": [],
   "source": [
    "def extractExpThreadTupleIR(ds, exp, insertion_routine, key, sort_by):\n",
    "    res = []\n",
    "    for r in sorted(results, key=lambda line: line[sort_by]):\n",
    "        if r['experiment'] != exp or r['insertion_routine'] != insertion_routine or r['format'] != ds:\n",
    "            continue\n",
    "        res.append((r['threads'], r[key]))\n",
    "    return res"
   ]
  },
  {
   "cell_type": "code",
   "execution_count": 13,
   "metadata": {},
   "outputs": [],
   "source": [
    "def extractExperimentThreadTuple(ds, experiment, algo, key, sort_by):\n",
    "    res = []\n",
    "    for r in sorted(results, key=lambda line: line[sort_by]):\n",
    "        if r['algo'] != algo or r['format'] != ds or r['experiment'] != experiment:\n",
    "            continue\n",
    "        res.append((r['threads'], r[key]))\n",
    "    return res"
   ]
  },
  {
   "cell_type": "code",
   "execution_count": 14,
   "metadata": {},
   "outputs": [],
   "source": [
    "def extThreadTupleIR(ds, experiment, ir, key, sort_by):\n",
    "    res = []\n",
    "    for r in sorted(results, key=lambda line: line[sort_by]):\n",
    "        if r['insertion_routine'] != ir or r['format'] != ds or r['experiment'] != experiment:\n",
    "            continue\n",
    "        res.append((r['threads'], r[key]))\n",
    "    return res"
   ]
  },
  {
   "cell_type": "code",
   "execution_count": 15,
   "metadata": {},
   "outputs": [],
   "source": [
    "def extractExperimentSingleThread(ds, experiment, algo, key, sort_by):\n",
    "    res = []\n",
    "    for r in sorted(results, key=lambda line: line[sort_by]):\n",
    "        if r['format'] != ds  or r['threads'] != 1 or r['experiment'] != experiment or r['algo'] != algo:\n",
    "            continue\n",
    "        res.append(r[key])\n",
    "    return res"
   ]
  },
  {
   "cell_type": "code",
   "execution_count": 16,
   "metadata": {},
   "outputs": [],
   "source": [
    "def extractXThread(ds, algo, key, t, sort_by):\n",
    "    res = []\n",
    "    for r in sorted(results, key=lambda line: line[sort_by]):\n",
    "        if r['algo'] != algo or r['format'] != ds or r['threads'] != t:\n",
    "            continue\n",
    "        res.append(r[key])\n",
    "    return res"
   ]
  },
  {
   "cell_type": "code",
   "execution_count": 17,
   "metadata": {},
   "outputs": [],
   "source": [
    "def extractXThreadIR(ds, insertion_routine, key, t, sort_by):\n",
    "    res = []\n",
    "    for r in sorted(results, key=lambda line: line[sort_by]):\n",
    "        if r['insertion_routine'] != insertion_routine or r['format'] != ds or r['threads'] != t:\n",
    "            continue\n",
    "        res.append(r[key])      \n",
    "    return res"
   ]
  },
  {
   "cell_type": "code",
   "execution_count": 18,
   "metadata": {},
   "outputs": [],
   "source": [
    "def extractExperimentXThread(ds, experiment, algo, key, t, sort_by):\n",
    "    res = []\n",
    "    for r in sorted(results, key=lambda line: line[sort_by]):\n",
    "        if r['algo'] != algo or r['format'] != ds or r['threads'] != t or r['experiment'] != experiment:\n",
    "            continue\n",
    "        res.append(r[key])\n",
    "    return res"
   ]
  },
  {
   "cell_type": "code",
   "execution_count": 19,
   "metadata": {},
   "outputs": [],
   "source": [
    "def expXThreadIR(ds, experiment, insertion_routine, key, t, sort_by):\n",
    "    res = []\n",
    "    for r in sorted(results, key=lambda line: line[sort_by]):\n",
    "        if r['format'] != ds or r['threads'] != t or r['experiment'] != experiment or r['insertion_routine'] != insertion_routine :\n",
    "            continue\n",
    "        res.append(r[key])\n",
    "    return res"
   ]
  },
  {
   "cell_type": "code",
   "execution_count": 20,
   "metadata": {},
   "outputs": [],
   "source": [
    "def extractThreadTupleGraph(ds, algo, key, graph, sort_by):\n",
    "    res = []\n",
    "    for r in sorted(results, key=lambda line: line[sort_by]):\n",
    "        if r['algo'] != algo or r['format'] != ds or r['graph'] != graph:\n",
    "            continue\n",
    "        res.append((r['threads'], r[key]))\n",
    "    return res"
   ]
  },
  {
   "cell_type": "code",
   "execution_count": 21,
   "metadata": {},
   "outputs": [],
   "source": [
    "dhb_color = 'tomato'\n",
    "nk_color = 'royalblue'\n",
    "stinger_color = 'gold'\n",
    "csr_color = 'grey'\n",
    "aspen_color = 'orchid'"
   ]
  },
  {
   "cell_type": "code",
   "execution_count": 22,
   "metadata": {},
   "outputs": [],
   "source": [
    "nk_ds = 'NetworKit'\n",
    "dhb_ds = 'DHB'\n",
    "stinger_ds = 'Stinger'\n",
    "csr_ds = 'CSR'\n",
    "aspen_ds = 'aspen'"
   ]
  },
  {
   "cell_type": "code",
   "execution_count": 23,
   "metadata": {},
   "outputs": [],
   "source": [
    "dhb_hatch = \"\\\\\\\\\\\\\"\n",
    "nk_hatch = \"///\"\n",
    "stinger_hatch = '...'\n",
    "csr_hatch = 'xxx'\n",
    "aspen_hatch = '---'"
   ]
  },
  {
   "cell_type": "code",
   "execution_count": 24,
   "metadata": {},
   "outputs": [],
   "source": [
    "def abbreviate_name(graph_name):\n",
    "    d = {\n",
    "        'soc-flickr-growth': 'flickr',\n",
    "        'rec-epinions-user-ratings': 'epns-user',\n",
    "        'rec-amazon-ratings': 'amzn-rat',\n",
    "        'a-stackexch-user-marks-post-und': 'stackexch',\n",
    "        'soc-epinions-trust-dir': 'epns-trust',\n",
    "        'soc-youtube-growth': 'youtube',\n",
    "        'sx-stackoverflow': 'stackoverflow',\n",
    "        'wiki-Talk': 'wiki',\n",
    "        'cit-Patents': 'patents',\n",
    "        'roadNet-CA': 'roadNet',\n",
    "        'amazon0601': 'amzn0601',\n",
    "        'web-Google': 'Google',\n",
    "        'web-BerkStan': 'BerkStan',\n",
    "        'wiki-topcats': 'topcats',\n",
    "        'soc-LiveJournal1': 'LiveJournal',\n",
    "        'wiki-talk-temporal': 'wiki-temp',\n",
    "        'ia-stackexch-user-marks-post-und': 'stackexch',\n",
    "        'com-friendster': 'friendster',\n",
    "        'dimacs10-uk-2007-05': 'uk2007',\n",
    "        'web-ClueWeb09.edges': 'ClueWeb09',\n",
    "        'soc-twitter-mpi-sws': 'twitter-mpi',\n",
    "        'com-orkut': 'orkut',\n",
    "        'tech-p2p': 'tech-p2p',\n",
    "        'web-uk-2005': 'web-uk2005',\n",
    "        'web-wikipedia_link_en13': 'wiki-link',\n",
    "    }\n",
    "    \n",
    "    if graph_name in d:\n",
    "        return d[graph_name]\n",
    "    else:\n",
    "        return 'Unknown!'"
   ]
  },
  {
   "cell_type": "code",
   "execution_count": 25,
   "metadata": {},
   "outputs": [],
   "source": [
    "def graph_abbreviation():\n",
    "    abbreviations = dict()\n",
    "    sort_by = 'edges_read_in'\n",
    "    for r in sorted(results, key=lambda r: sort_by):\n",
    "        graph_name = r['graph']\n",
    "        if graph_name not in abbreviations and len(graph_name) > 0:\n",
    "            abbreviations[graph_name] = ''\n",
    "            \n",
    "    for name in abbreviations.items():\n",
    "        abbr = abbreviate_name(name[0])\n",
    "        if abbr in abbreviations.values():\n",
    "            abbr += '1'\n",
    "        abbreviations[name[0]] = abbr\n",
    "        \n",
    "    return abbreviations"
   ]
  },
  {
   "cell_type": "code",
   "execution_count": 28,
   "metadata": {},
   "outputs": [],
   "source": [
    "def static_graph_summary():\n",
    "    g_abbr = graph_abbreviation()\n",
    "    \n",
    "    graphs = list()\n",
    "    sort_by = 'edges_read_in'\n",
    "    used_graphs = list()\n",
    "    for r in sorted(results, key=lambda r: r[sort_by]):\n",
    "        graph_name = r['graph']\n",
    "        if graph_name not in used_graphs and len(graph_name) > 0 and r['experiment'] == 'dhb_insert_static':\n",
    "            graphs.append((graph_name, g_abbr[graph_name], r['vertex_count'], r['edges_read_in']))\n",
    "            used_graphs.append(graph_name)\n",
    "    \n",
    "    graphs.sort(key=lambda y: y[3])\n",
    "            \n",
    "    return graphs"
   ]
  },
  {
   "cell_type": "code",
   "execution_count": 29,
   "metadata": {},
   "outputs": [],
   "source": [
    "def dynamic_graph_summary():\n",
    "    g_abbr = graph_abbreviation()\n",
    "    \n",
    "    graphs = list()\n",
    "    sort_by = 'edges_read_in'\n",
    "    used_graphs = list()\n",
    "    for r in sorted(results, key=lambda r: r[sort_by]):\n",
    "        graph_name = r['graph']\n",
    "        if graph_name not in used_graphs and len(graph_name) > 0 and r['experiment'] == 'dhb_temporal_insertions':\n",
    "            graphs.append((graph_name, g_abbr[graph_name], r['vertex_count'], r['edges_read_in'], r['edge_count_after']))\n",
    "            used_graphs.append(graph_name)\n",
    "            \n",
    "    graphs.sort(key=lambda y: y[3])\n",
    "    \n",
    "    return graphs"
   ]
  },
  {
   "cell_type": "code",
   "execution_count": 30,
   "metadata": {},
   "outputs": [],
   "source": [
    "def write_dynamic_graph_summary_to_file():\n",
    "    with open('plots/dynamic_graph_summary.tex', 'w') as graph_summary_file:\n",
    "        graphs = dynamic_graph_summary()\n",
    "        print('% Graph Name, Graph Abbreviation, Highest Vertex ID, Edges Read In, Edge Count After Insert/Update',\n",
    "              file=graph_summary_file)\n",
    "        for g in graphs:\n",
    "            print(g[0] + ' & ' + g[1] + ' & ' + str(g[2]) + ' & ' + str(g[3]) + ' & ' + str(g[4]) + '\\\\\\\\', file=graph_summary_file)"
   ]
  },
  {
   "cell_type": "code",
   "execution_count": 31,
   "metadata": {},
   "outputs": [],
   "source": [
    "def write_static_graph_summary_to_file():\n",
    "    with open('plots/static_graph_summary.tex', 'w') as graph_summary_file:\n",
    "        graphs = static_graph_summary()\n",
    "        print('% Graph Name, Graph Abbreviation, Highest Vertex ID, Edges Read In',\n",
    "              file=graph_summary_file)\n",
    "        for g in graphs:\n",
    "            print(g[0] + ' & ' + g[1] + ' & ' + str(g[2]) + ' & ' + str(g[3]) + '\\\\\\\\', file=graph_summary_file)"
   ]
  },
  {
   "cell_type": "code",
   "execution_count": 32,
   "metadata": {},
   "outputs": [],
   "source": [
    "def get_abbr_for_graphs(graphs):\n",
    "    abbreviations = graph_abbreviation()\n",
    "    replacements = []\n",
    "    \n",
    "    for g in graphs:\n",
    "        replacements.append(abbreviations[g])\n",
    "    \n",
    "    return replacements"
   ]
  },
  {
   "cell_type": "code",
   "execution_count": 33,
   "metadata": {},
   "outputs": [],
   "source": [
    "def factor_compared_to(team, opponent):\n",
    "    factors = []\n",
    "    for t, o in zip(team, opponent):\n",
    "        factors.append(o / t)\n",
    "    \n",
    "    gemetric_mean = gmean(factors)\n",
    "    \n",
    "    return gemetric_mean"
   ]
  },
  {
   "cell_type": "code",
   "execution_count": 34,
   "metadata": {},
   "outputs": [],
   "source": [
    "def append_to_factor_file(name, factor):\n",
    "    rounded_factor = round(factor,1)\n",
    "    with open('plots/comparing_factors.tex', 'a') as factor_file:\n",
    "        print('\\\\newcommand{\\\\' + name + '}{' + str(rounded_factor) + '}', file=factor_file)"
   ]
  },
  {
   "cell_type": "code",
   "execution_count": 35,
   "metadata": {},
   "outputs": [],
   "source": [
    "# Set on True if you want to save all the plots\n",
    "save_all_plots=False"
   ]
  },
  {
   "cell_type": "code",
   "execution_count": 66,
   "metadata": {},
   "outputs": [],
   "source": [
    "write_static_graph_summary_to_file()\n",
    "write_dynamic_graph_summary_to_file()"
   ]
  },
  {
   "cell_type": "code",
   "execution_count": 36,
   "metadata": {},
   "outputs": [],
   "source": [
    "def min_timeout(times):\n",
    "    timeout = 1800000. # 1800 seconds\n",
    "    return [min(timeout, t) for t in times]"
   ]
  },
  {
   "cell_type": "code",
   "execution_count": 73,
   "metadata": {},
   "outputs": [],
   "source": [
    "def temporal_insertion(thread_count, save=False):\n",
    "    insertion_routine = 'temporal_insertions'\n",
    "    title = insertion_routine\n",
    "    \n",
    "    sort_by = 'edges_read_in'\n",
    "    \n",
    "    graphs = expXThreadIR(dhb_ds, 'dhb_temporal_insertions', insertion_routine, 'graph', thread_count, sort_by)\n",
    "    edges = expXThreadIR(dhb_ds, 'dhb_temporal_insertions', insertion_routine, 'edges_read_in', thread_count, sort_by)\n",
    "    print('edges: ' + str(edges))\n",
    "    \n",
    "    dhb_times = expXThreadIR(dhb_ds,'dhb_temporal_insertions', insertion_routine, 'duration_ms', thread_count, sort_by)\n",
    "    dhb_times = min_timeout(dhb_times)\n",
    "    nk_times = expXThreadIR(nk_ds, 'networkit_temporal_insertions', insertion_routine, 'duration_ms', thread_count, sort_by)\n",
    "    nk_times = min_timeout(nk_times)\n",
    "    print('nk_times: ' + str(nk_times))\n",
    "    aspen_times = expXThreadIR(aspen_ds, 'aspen_temporal_insertions', insertion_routine, 'duration_ms', thread_count, sort_by)\n",
    "    aspen_times = min_timeout(aspen_times)\n",
    "    print('aspen_times: ' + str(aspen_times))\n",
    "    stinger_times = expXThreadIR(stinger_ds,  'stinger_temporal_insertions', insertion_routine, 'duration_ms', thread_count, sort_by)\n",
    "    stinger_times = min_timeout(stinger_times)\n",
    "    print('stinger_times: ' + str(stinger_times))\n",
    "    \n",
    "    fig, ax = plt.subplots()\n",
    "    ax.set_ylabel('nanoseconds per edge insertion')\n",
    "#     ax.set_title('Thread Count: ' + str(thread_count) + ', Inserting all Edges of Static Graphs')\n",
    "    \n",
    "    nk_times_per_edge = [(t / edge_count) * 1000000 for t, edge_count in zip(nk_times, edges)]\n",
    "    dhb_times_per_edge = [(t / edge_count) * 1000000 for t, edge_count in zip(dhb_times, edges)]\n",
    "    stinger_times_per_edge = [(t / edge_count) * 1000000 for t, edge_count in zip(stinger_times, edges)]\n",
    "    aspen_times_per_edge = [(t / edge_count) * 1000000 for t, edge_count in zip(aspen_times, edges)]\n",
    "    \n",
    "    x = np.arange(len(graphs))  # the label locations\n",
    "    width = 0.15 \n",
    "    \n",
    "    ax.bar(x - 1.5*width, nk_times_per_edge, \n",
    "           width, label=nk_ds, color=nk_color, hatch=nk_hatch, edgecolor='black', align='center')\n",
    "    ax.bar(x - 0.5*width, stinger_times_per_edge, width, label=stinger_ds, \n",
    "           color=stinger_color, hatch=stinger_hatch, edgecolor='black', align='center')\n",
    "    ax.bar(x + 0.5*width, aspen_times_per_edge, width, label=aspen_ds, \n",
    "           color=aspen_color, hatch=aspen_hatch, edgecolor='black', align='center')\n",
    "    ax.bar(x + 1.5*width, dhb_times_per_edge, \n",
    "           width, label=dhb_ds, color=dhb_color, hatch=dhb_hatch, edgecolor='black')\n",
    "\n",
    "    ax.set_xticks(x)\n",
    "    ax.set_xticklabels(get_abbr_for_graphs([name for name in graphs]), rotation=30)\n",
    "    ax.set_yscale('log', base=10)\n",
    "    \n",
    "    ax.legend()\n",
    "\n",
    "    if save:\n",
    "        plt.savefig('plots/nk_v_stinger_v_aspen_v_dhb_' + insertion_routine + '_thread_count_' + str(thread_count) + '_' + str(datetime.date.today()) + '.pdf', \n",
    "                    bbox_inches='tight')\n",
    "        append_to_factor_file(title + '_thread_count_' + str(thread_count) + '_vs_nk_',\n",
    "                              factor_compared_to(dhb_times_per_edge, nk_times_per_edge))\n",
    "        append_to_factor_file(title + '_thread_count_' + str(thread_count) + '_vs_stinger',\n",
    "                              factor_compared_to(dhb_times_per_edge, stinger_times_per_edge))\n",
    "        append_to_factor_file(title + '_thread_count_' + str(thread_count) + '_vs_aspen',\n",
    "                              factor_compared_to(dhb_times_per_edge, aspen_times_per_edge))\n",
    "    else:\n",
    "        plt.show()"
   ]
  },
  {
   "cell_type": "code",
   "execution_count": 75,
   "metadata": {},
   "outputs": [
    {
     "name": "stdout",
     "output_type": "stream",
     "text": [
      "edges: [841371, 1302438, 7833139, 12223773, 13668319, 33140016, 47903265]\n",
      "nk_times: [116, 324, 8422, 8137, 36249, 11282, 40268]\n",
      "aspen_times: [1861, 3054, 22307, 33276, 50536, 104822, 178401]\n",
      "stinger_times: [517, 994, 137216, 61395, 1308490, 69008, 479076]\n"
     ]
    },
    {
     "data": {
      "image/png": "[encoded data removed]",
      "text/plain": [
       "<Figure size 432x288 with 1 Axes>"
      ]
     },
     "metadata": {
      "needs_background": "light"
     },
     "output_type": "display_data"
    }
   ],
   "source": [
    "temporal_insertion(1, save=True)"
   ]
  },
  {
   "cell_type": "code",
   "execution_count": 37,
   "metadata": {},
   "outputs": [],
   "source": [
    "def temporal_updates(thread_count, save=False):\n",
    "    insertion_routine = 'temporal_updates'\n",
    "    title = insertion_routine\n",
    "    \n",
    "    sort_by = 'edges_read_in'\n",
    "    \n",
    "    graphs = expXThreadIR(dhb_ds, 'dhb_temporal_updates', insertion_routine, 'graph', thread_count, sort_by)\n",
    "    edges = [e * 0.5 for e in expXThreadIR(dhb_ds, 'dhb_temporal_updates', insertion_routine, 'edges_read_in', thread_count, sort_by)]\n",
    "    print('edges: ' + str(edges))\n",
    "    \n",
    "    dhb_times = expXThreadIR(dhb_ds,'dhb_temporal_updates', insertion_routine, 'duration_ms', thread_count, sort_by)\n",
    "    dhb_times = min_timeout(dhb_times)\n",
    "    nk_times = expXThreadIR(nk_ds, 'networkit_temporal_updates', insertion_routine, 'duration_ms', thread_count, sort_by)\n",
    "    nk_times = min_timeout(nk_times)\n",
    "    print('nk_times: ' + str(nk_times))\n",
    "    stinger_times = expXThreadIR(stinger_ds,  'stinger_temporal_updates', insertion_routine, 'duration_ms', thread_count, sort_by)\n",
    "    stinger_times = min_timeout(stinger_times)\n",
    "    print('stinger_times: ' + str(stinger_times))\n",
    "    \n",
    "    stinger_times.insert(4, 1800000.)\n",
    "    \n",
    "    fig, ax = plt.subplots()\n",
    "    ax.set_ylabel('nanoseconds per edge update')\n",
    "#     ax.set_title('Thread Count: ' + str(thread_count) + ', Inserting all Edges of Static Graphs')\n",
    "    \n",
    "    nk_times_per_edge = [(t / edge_count) * 1000000 for t, edge_count in zip(nk_times, edges)]\n",
    "    dhb_times_per_edge = [(t / edge_count) * 1000000 for t, edge_count in zip(dhb_times, edges)]\n",
    "    stinger_times_per_edge = [(t / edge_count) * 1000000 for t, edge_count in zip(stinger_times, edges)]\n",
    "    \n",
    "    x = np.arange(len(graphs))  # the label locations\n",
    "    width = 0.15 \n",
    "    \n",
    "    ax.bar(x - width, nk_times_per_edge, \n",
    "           width, label=nk_ds, color=nk_color, hatch=nk_hatch, edgecolor='black', align='center')\n",
    "    ax.bar(x, stinger_times_per_edge, width, label=stinger_ds, \n",
    "           color=stinger_color, hatch=stinger_hatch, edgecolor='black', align='center')\n",
    "    ax.bar(x + width, dhb_times_per_edge, \n",
    "           width, label=dhb_ds, color=dhb_color, hatch=dhb_hatch, edgecolor='black')\n",
    "\n",
    "    ax.set_xticks(x)\n",
    "    ax.set_xticklabels(get_abbr_for_graphs([name for name in graphs]), rotation=30)\n",
    "    ax.set_yscale('log', base=10)\n",
    "    \n",
    "    ax.legend()\n",
    "\n",
    "    if save:\n",
    "        plt.savefig('plots/nk_v_stinger__v_dhb_' + insertion_routine + '_thread_count_' + str(thread_count) + '_' + str(datetime.date.today()) + '.pdf', \n",
    "                    bbox_inches='tight')\n",
    "        append_to_factor_file(title + '_thread_count_' + str(thread_count) + '_vs_nk_',\n",
    "                              factor_compared_to(dhb_times_per_edge, nk_times_per_edge))\n",
    "        append_to_factor_file(title + '_thread_count_' + str(thread_count) + '_vs_stinger',\n",
    "                              factor_compared_to(dhb_times_per_edge, stinger_times_per_edge))\n",
    "    else:\n",
    "        plt.show()"
   ]
  },
  {
   "cell_type": "code",
   "execution_count": 39,
   "metadata": {},
   "outputs": [
    {
     "name": "stdout",
     "output_type": "stream",
     "text": [
      "edges: [420685.5, 651219.0, 3916569.5, 6111886.5, 6834159.5, 16570008.0, 23951632.5]\n",
      "nk_times: [146, 311, 17141, 11548, 35241, 32733, 76008]\n",
      "stinger_times: [395, 352, 62437, 104349, 131197, 389540]\n"
     ]
    },
    {
     "data": {
      "image/png": "[encoded data removed]",
      "text/plain": [
       "<Figure size 432x288 with 1 Axes>"
      ]
     },
     "metadata": {
      "needs_background": "light"
     },
     "output_type": "display_data"
    }
   ],
   "source": [
    "temporal_updates(1, save=False)"
   ]
  },
  {
   "cell_type": "code",
   "execution_count": 40,
   "metadata": {},
   "outputs": [],
   "source": [
    "def temporal_deletions(thread_count, save=False):\n",
    "    insertion_routine = 'temporal_deletions'\n",
    "    title = insertion_routine\n",
    "    \n",
    "    sort_by = 'edges_read_in'\n",
    "    \n",
    "    graphs = expXThreadIR(dhb_ds, 'dhb_temporal_deletions', insertion_routine, 'graph', thread_count, sort_by)\n",
    "    edges = [e * 0.5 for e in expXThreadIR(dhb_ds, 'dhb_temporal_deletions', insertion_routine, 'edges_read_in', thread_count, sort_by)]\n",
    "    print('edges: ' + str(edges))\n",
    "    \n",
    "    dhb_times = expXThreadIR(dhb_ds,'dhb_temporal_deletions', insertion_routine, 'duration_ms', thread_count, sort_by)\n",
    "    dhb_times = min_timeout(dhb_times)\n",
    "    nk_times = expXThreadIR(nk_ds, 'networkit_temporal_deletions', insertion_routine, 'duration_ms', thread_count, sort_by)\n",
    "    nk_times = min_timeout(nk_times)\n",
    "    print('nk_times: ' + str(nk_times))\n",
    "    aspen_times = expXThreadIR(aspen_ds, 'aspen_temporal_deletions', insertion_routine, 'duration_ms', thread_count, sort_by)\n",
    "    aspen_times = min_timeout(aspen_times)\n",
    "    print('aspen_times: ' + str(aspen_times))\n",
    "    \n",
    "    fig, ax = plt.subplots()\n",
    "    ax.set_ylabel('nanoseconds per edge deletion')\n",
    "#     ax.set_title('Thread Count: ' + str(thread_count) + ', Inserting all Edges of Static Graphs')\n",
    "    \n",
    "    nk_times_per_edge = [(t / edge_count) * 1000000 for t, edge_count in zip(nk_times, edges)]\n",
    "    dhb_times_per_edge = [(t / edge_count) * 1000000 for t, edge_count in zip(dhb_times, edges)]\n",
    "    aspen_times_per_edge = [(t / edge_count) * 1000000 for t, edge_count in zip(aspen_times, edges)]\n",
    "    \n",
    "    x = np.arange(len(graphs))  # the label locations\n",
    "    width = 0.15 \n",
    "    \n",
    "    ax.bar(x - width, nk_times_per_edge, \n",
    "           width, label=nk_ds, color=nk_color, hatch=nk_hatch, edgecolor='black', align='center')\n",
    "    ax.bar(x, aspen_times_per_edge, width, label=aspen_ds, \n",
    "           color=aspen_color, hatch=aspen_hatch, edgecolor='black', align='center')\n",
    "    ax.bar(x + width, dhb_times_per_edge, \n",
    "           width, label=dhb_ds, color=dhb_color, hatch=dhb_hatch, edgecolor='black')\n",
    "\n",
    "    ax.set_xticks(x)\n",
    "    ax.set_xticklabels(get_abbr_for_graphs([name for name in graphs]), rotation=30)\n",
    "    ax.set_yscale('log', base=10)\n",
    "    \n",
    "    ax.legend()\n",
    "\n",
    "    if save:\n",
    "        plt.savefig('plots/nk_v_aspen_v_dhb_' + insertion_routine + '_thread_count_' + str(thread_count) + '_' + str(datetime.date.today()) + '.pdf', \n",
    "                    bbox_inches='tight')\n",
    "        append_to_factor_file(title + '_thread_count_' + str(thread_count) + '_vs_nk_',\n",
    "                              factor_compared_to(dhb_times_per_edge, nk_times_per_edge))\n",
    "        append_to_factor_file(title + '_thread_count_' + str(thread_count) + '_vs_aspen',\n",
    "                              factor_compared_to(dhb_times_per_edge, aspen_times_per_edge))\n",
    "    else:\n",
    "        plt.show()"
   ]
  },
  {
   "cell_type": "code",
   "execution_count": 42,
   "metadata": {},
   "outputs": [
    {
     "name": "stdout",
     "output_type": "stream",
     "text": [
      "edges: [420685.5, 651219.0, 3916569.5, 6111886.5, 6834159.5, 16570008.0, 23951632.5]\n",
      "nk_times: [128, 233, 11475, 8293, 22912, 25630, 53503]\n",
      "aspen_times: [1739, 2806, 24142, 27461, 45926, 103203, 183146]\n"
     ]
    },
    {
     "data": {
      "image/png": "[encoded data removed]",
      "text/plain": [
       "<Figure size 432x288 with 1 Axes>"
      ]
     },
     "metadata": {
      "needs_background": "light"
     },
     "output_type": "display_data"
    }
   ],
   "source": [
    "temporal_deletions(1, save=True)"
   ]
  },
  {
   "cell_type": "code",
   "execution_count": 281,
   "metadata": {},
   "outputs": [],
   "source": [
    "def bfs(thread_count, save=False):\n",
    "    insertion_routine = 'bfs'\n",
    "    title = insertion_routine\n",
    "    \n",
    "    sort_by = 'edges_read_in'\n",
    "    \n",
    "    graphs = expXThreadIR(dhb_ds, 'dhb_bfs', insertion_routine, 'graph', thread_count, sort_by)\n",
    "    edges = expXThreadIR(dhb_ds, 'dhb_bfs', insertion_routine, 'edges_read_in', thread_count, sort_by)\n",
    "    print('edges: ' + str(edges))\n",
    "    \n",
    "    dhb_times = expXThreadIR(dhb_ds,'dhb_bfs', insertion_routine, 'duration_ms', thread_count, sort_by)\n",
    "    dhb_times = min_timeout(dhb_times)\n",
    "    \n",
    "    aspen_times = expXThreadIR(aspen_ds, 'aspen_bfs', insertion_routine, 'duration_ms', thread_count, sort_by)\n",
    "    aspen_times.insert(0, dhb_times[0])\n",
    "    aspen_times = min_timeout(aspen_times)\n",
    "    print('aspen_times: ' + str(aspen_times))\n",
    "    \n",
    "    stinger_times = expXThreadIR(stinger_ds, 'stinger_bfs', insertion_routine, 'duration_ms', thread_count, sort_by)\n",
    "    stinger_times = min_timeout(stinger_times)\n",
    "    print('stinger_times: ' + str(stinger_times))\n",
    "    stinger_times.append(1800000.)\n",
    "    stinger_times.append(1800000.)\n",
    "\n",
    "    nk_times = expXThreadIR(nk_ds, 'networkit_bfs', insertion_routine, 'duration_ms', thread_count, sort_by)\n",
    "    nk_times = min_timeout(nk_times)\n",
    "    print('nk_times: ' + str(nk_times))\n",
    "    nk_times.insert(6, 1800000.)\n",
    "    nk_times.insert(8, 1800000.)\n",
    "    \n",
    "    fig, ax = plt.subplots()\n",
    "    ax.set_ylabel('ms')\n",
    "#     ax.set_title('Thread Count: ' + str(thread_count) + ', Inserting all Edges of Static Graphs')\n",
    "    \n",
    "    x = np.arange(len(graphs))  # the label locations\n",
    "    width = 0.15 \n",
    "    \n",
    "    ax.bar(x - 1.5*width, nk_times, \n",
    "           width, label=nk_ds, color=nk_color, hatch=nk_hatch, edgecolor='black', align='center')\n",
    "    ax.bar(x - 0.5*width, stinger_times, width, label=stinger_ds, \n",
    "           color=stinger_color, hatch=stinger_hatch, edgecolor='black', align='center')\n",
    "    ax.bar(x + 0.5*width, aspen_times, width, label=aspen_ds, \n",
    "           color=aspen_color, hatch=aspen_hatch, edgecolor='black', align='center')\n",
    "    ax.bar(x + 1.5*width, dhb_times, \n",
    "           width, label=dhb_ds, color=dhb_color, hatch=dhb_hatch, edgecolor='black')\n",
    "\n",
    "    ax.set_xticks(x)\n",
    "    ax.set_xticklabels(get_abbr_for_graphs([name for name in graphs]), rotation=30)\n",
    "    ax.set_yscale('log', base=10)\n",
    "    \n",
    "    ax.legend()\n",
    "\n",
    "    if save:\n",
    "        plt.savefig('plots/nk_v_stinger_v_aspen_v_dhb_' + insertion_routine + '_thread_count_' + str(thread_count) + '_' + str(datetime.date.today()) + '.pdf', \n",
    "                    bbox_inches='tight')\n",
    "        append_to_factor_file(title + '_thread_count_' + str(thread_count) + '_vs_aspen',\n",
    "                              factor_compared_to(dhb_times, aspen_times))\n",
    "        append_to_factor_file(title + '_thread_count_' + str(thread_count) + '_vs_stinger',\n",
    "                              factor_compared_to(dhb_times, stinger_times))\n",
    "        append_to_factor_file(title + '_thread_count_' + str(thread_count) + '_vs_nk',\n",
    "                              factor_compared_to(dhb_times,nk_times))\n",
    "    else:\n",
    "        plt.show()"
   ]
  },
  {
   "cell_type": "code",
   "execution_count": 282,
   "metadata": {},
   "outputs": [
    {
     "name": "stdout",
     "output_type": "stream",
     "text": [
      "edges: [7600594, 16518947, 28511806, 68993772, 117185082, 147830697, 601038300, 936364281, 1468365181, 1806067134]\n",
      "aspen_times: [1839, 1647, 24958, 97971, 123156, 128289, 909795, 1003178, 1113738, 1800000.0]\n",
      "stinger_times: [5178, 2500, 49502, 86580, 46845, 172137, 308942, 947792]\n",
      "nk_times: [2350, 3214, 27409, 51912, 28790, 40483, 475075, 299774]\n"
     ]
    },
    {
     "data": {
      "image/png": "[encoded data removed]",
      "text/plain": [
       "<Figure size 432x288 with 1 Axes>"
      ]
     },
     "metadata": {
      "needs_background": "light"
     },
     "output_type": "display_data"
    }
   ],
   "source": [
    "bfs(1, save=save_all_plots)"
   ]
  },
  {
   "cell_type": "code",
   "execution_count": 269,
   "metadata": {},
   "outputs": [],
   "source": [
    "def spgemm(thread_count, save=False):\n",
    "    insertion_routine = 'spgemm'\n",
    "    title = insertion_routine\n",
    "    \n",
    "    sort_by = 'edges_read_in'\n",
    "    \n",
    "    graphs = expXThreadIR(dhb_ds, 'dhb_spgemm', insertion_routine, 'graph', thread_count, sort_by)\n",
    "    edges = expXThreadIR(dhb_ds, 'dhb_spgemm', insertion_routine, 'edges_read_in', thread_count, sort_by)\n",
    "    print('edges: ' + str(edges))\n",
    "    \n",
    "    dhb_times = expXThreadIR(dhb_ds,'dhb_spgemm', insertion_routine, 'duration_ms', thread_count, sort_by)\n",
    "    dhb_times = min_timeout(dhb_times)\n",
    "    aspen_times = expXThreadIR(aspen_ds, 'aspen_spgemm', insertion_routine, 'duration_ms', thread_count, sort_by)\n",
    "    aspen_times = min_timeout(aspen_times)\n",
    "    print('aspen_times: ' + str(aspen_times))\n",
    "    stinger_times = expXThreadIR(stinger_ds, 'stinger_spgemm', insertion_routine, 'duration_ms', thread_count, sort_by)\n",
    "    stinger_times = min_timeout(stinger_times)\n",
    "    print('stinger_times: ' + str(stinger_times))\n",
    "    stinger_times.insert(0, 1800000.)\n",
    "    stinger_times.append(1800000.)\n",
    "    stinger_times.append(1800000.)\n",
    "    stinger_times.append(1800000.)\n",
    "    stinger_times.append(1800000.)\n",
    "    stinger_times.append(1800000.)\n",
    "    stinger_times.append(1800000.)\n",
    "    stinger_times.append(1800000.)\n",
    "    stinger_times.append(1800000.)\n",
    "    \n",
    "    nk_times = expXThreadIR(nk_ds, 'networkit_spgemm', insertion_routine, 'duration_ms', thread_count, sort_by)\n",
    "    nk_times = min_timeout(nk_times)\n",
    "    print('nk_times: ' + str(nk_times))\n",
    "    nk_times.append(1800000.)\n",
    "    nk_times.append(1800000.)\n",
    "    nk_times.append(1800000.)\n",
    "    nk_times.append(1800000.)\n",
    "    nk_times.append(1800000.)\n",
    "    nk_times.append(1800000.)\n",
    "    nk_times.append(1800000.)\n",
    "    nk_times.append(1800000.)\n",
    "    \n",
    "    fig, ax = plt.subplots()\n",
    "    ax.set_ylabel('ms')\n",
    "#     ax.set_title('Thread Count: ' + str(thread_count) + ', Inserting all Edges of Static Graphs')\n",
    "    \n",
    "    x = np.arange(len(graphs))  # the label locations\n",
    "    width = 0.15\n",
    "    \n",
    "    ax.bar(x - 1.5*width, nk_times, \n",
    "           width, label=nk_ds, color=nk_color, hatch=nk_hatch, edgecolor='black', align='center')\n",
    "    ax.bar(x - 0.5*width, stinger_times, width, label=stinger_ds, \n",
    "           color=stinger_color, hatch=stinger_hatch, edgecolor='black', align='center')\n",
    "    ax.bar(x + 0.5*width, aspen_times, width, label=aspen_ds, \n",
    "           color=aspen_color, hatch=aspen_hatch, edgecolor='black', align='center')\n",
    "    ax.bar(x + 1.5*width, dhb_times, \n",
    "           width, label=dhb_ds, color=dhb_color, hatch=dhb_hatch, edgecolor='black')\n",
    "\n",
    "    ax.set_xticks(x)\n",
    "    ax.set_xticklabels(get_abbr_for_graphs([name for name in graphs]), rotation=30)\n",
    "    ax.set_yscale('log', base=10)\n",
    "    \n",
    "    ax.legend()\n",
    "\n",
    "    if save:\n",
    "        plt.savefig('plots/nk_v_stinger_v_aspen_v_dhb_' + insertion_routine + '_thread_count_' + str(thread_count) + '_' + str(datetime.date.today()) + '.pdf', \n",
    "                    bbox_inches='tight')\n",
    "        append_to_factor_file(title + '_thread_count_' + str(thread_count) + '_vs_aspen',\n",
    "                              factor_compared_to(dhb_times, aspen_times))\n",
    "        append_to_factor_file(title + '_thread_count_' + str(thread_count) + '_vs_stinger',\n",
    "                              factor_compared_to(dhb_times, stinger_times))\n",
    "        append_to_factor_file(title + '_thread_count_' + str(thread_count) + '_vs_nk',\n",
    "                              factor_compared_to(dhb_times,nk_times))\n",
    "    else:\n",
    "        plt.show()"
   ]
  },
  {
   "cell_type": "code",
   "execution_count": 270,
   "metadata": {},
   "outputs": [
    {
     "name": "stdout",
     "output_type": "stream",
     "text": [
      "edges: [7600594, 16518947, 28511806, 68993772, 117185082, 147830697, 601038300, 936364281, 1468365181, 1806067134]\n",
      "aspen_times: [5247, 9706, 6222, 7609, 7679, 9577, 8833, 7054, 11750, 8933]\n",
      "stinger_times: [35746]\n",
      "nk_times: [290571, 23364]\n"
     ]
    },
    {
     "data": {
      "image/png": "[encoded data removed]",
      "text/plain": [
       "<Figure size 432x288 with 1 Axes>"
      ]
     },
     "metadata": {
      "needs_background": "light"
     },
     "output_type": "display_data"
    }
   ],
   "source": [
    "spgemm(1, save=save_all_plots)"
   ]
  },
  {
   "cell_type": "code",
   "execution_count": 201,
   "metadata": {},
   "outputs": [],
   "source": [
    "def insert_bulk(thread_count, save=False):\n",
    "    insertion_routine = 'insert_bulk'\n",
    "    title = insertion_routine\n",
    "    \n",
    "    sort_by = 'edges_read_in'\n",
    "    \n",
    "    graphs = expXThreadIR(dhb_ds, 'dhb_insert_bulk_static', insertion_routine, 'graph', thread_count, sort_by)\n",
    "    edges = expXThreadIR(dhb_ds, 'dhb_insert_bulk_static', insertion_routine, 'edges_read_in', thread_count, sort_by)\n",
    "    print('edges: ' + str(edges))\n",
    "    \n",
    "    dhb_times = expXThreadIR(dhb_ds,'dhb_insert_bulk_static', insertion_routine, 'duration_ms', thread_count, sort_by)\n",
    "    dhb_times = min_timeout(dhb_times)\n",
    "    nk_times = expXThreadIR(nk_ds, 'networkit_insert_bulk_static', insertion_routine, 'duration_ms', thread_count, sort_by)\n",
    "    nk_times = min_timeout(nk_times)\n",
    "    print('nk_times: ' + str(nk_times))\n",
    "    aspen_times = expXThreadIR(aspen_ds, 'aspen_insert_static', insertion_routine, 'duration_ms', thread_count, sort_by)\n",
    "    aspen_times = min_timeout(aspen_times)\n",
    "    print('aspen_times: ' + str(aspen_times))\n",
    "    stinger_times = expXThreadIR(stinger_ds,  'stinger_insert_bulk_static', insertion_routine, 'duration_ms', thread_count, sort_by)\n",
    "    stinger_times = min_timeout(stinger_times)\n",
    "    stinger_times.insert(8, 1800000.)\n",
    "    print('stinger_times: ' + str(stinger_times))\n",
    "    \n",
    "    fig, ax = plt.subplots()\n",
    "    ax.set_ylabel('nanoseconds per edge insertion')\n",
    "#     ax.set_title('Thread Count: ' + str(thread_count) + ', Inserting all Edges of Static Graphs')\n",
    "    \n",
    "    nk_times_per_edge = [(t / edge_count) * 1000000 for t, edge_count in zip(nk_times, edges)]\n",
    "    dhb_times_per_edge = [(t / edge_count) * 1000000 for t, edge_count in zip(dhb_times, edges)]\n",
    "    stinger_times_per_edge = [(t / edge_count) * 1000000 for t, edge_count in zip(stinger_times, edges)]\n",
    "    aspen_times_per_edge = [(t / edge_count) * 1000000 for t, edge_count in zip(aspen_times, edges)]\n",
    "    \n",
    "    x = np.arange(len(graphs))  # the label locations\n",
    "    width = 0.17\n",
    "    \n",
    "    ax.bar(x - 1.5*width, nk_times_per_edge, \n",
    "           width, label=nk_ds, color=nk_color, hatch=nk_hatch, edgecolor='black', align='center')\n",
    "    ax.bar(x - 0.5*width, stinger_times_per_edge, width, label=stinger_ds, \n",
    "           color=stinger_color, hatch=stinger_hatch, edgecolor='black', align='center')\n",
    "    ax.bar(x + 0.5*width, aspen_times_per_edge, width, label=aspen_ds, \n",
    "           color=aspen_color, hatch=aspen_hatch, edgecolor='black', align='center')\n",
    "    ax.bar(x + 1.5*width, dhb_times_per_edge, \n",
    "           width, label=dhb_ds, color=dhb_color, hatch=dhb_hatch, edgecolor='black')\n",
    "\n",
    "    ax.set_xticks(x)\n",
    "    ax.set_xticklabels(get_abbr_for_graphs([name for name in graphs]), rotation=30)\n",
    "    ax.set_yscale('log', base=10)\n",
    "    \n",
    "    ax.legend()\n",
    "\n",
    "    if save:\n",
    "        plt.savefig('plots/nk_v_stinger_v_aspen_v_dhb_' + insertion_routine + '_thread_count_' + str(thread_count) + '_' + str(datetime.date.today()) + '.pdf', \n",
    "                    bbox_inches='tight')\n",
    "        append_to_factor_file(title + '_thread_count_' + str(thread_count) + '_vs_nk_',\n",
    "                              factor_compared_to(dhb_times_per_edge, nk_times_per_edge))\n",
    "        append_to_factor_file(title + '_thread_count_' + str(thread_count) + '_vs_stinger',\n",
    "                              factor_compared_to(dhb_times_per_edge, stinger_times_per_edge))\n",
    "        append_to_factor_file(title + '_thread_count_' + str(thread_count) + '_vs_aspen',\n",
    "                              factor_compared_to(dhb_times_per_edge, aspen_times_per_edge))\n",
    "    else:\n",
    "        plt.show()"
   ]
  },
  {
   "cell_type": "code",
   "execution_count": 202,
   "metadata": {},
   "outputs": [
    {
     "name": "stdout",
     "output_type": "stream",
     "text": [
      "edges: [7600594, 16518947, 28511806, 68993772, 117185082, 147830697, 601038300, 936364281, 1468365181, 1806067134]\n",
      "nk_times: [530, 5010, 3638, 12744, 21699, 26258, 95551, 61856, 386002, 710277]\n",
      "aspen_times: [461, 1262, 1855, 4344, 6429, 9037, 38790, 55244, 92556, 118492]\n",
      "stinger_times: [2092, 4173, 9558, 27144, 127522, 268991, 381700, 388684, 1800000.0, 1348131]\n"
     ]
    },
    {
     "data": {
      "image/png": "[encoded data removed]",
      "text/plain": [
       "<Figure size 432x288 with 1 Axes>"
      ]
     },
     "metadata": {
      "needs_background": "light"
     },
     "output_type": "display_data"
    }
   ],
   "source": [
    "insert_bulk(1, save=save_all_plots)"
   ]
  },
  {
   "cell_type": "code",
   "execution_count": 203,
   "metadata": {},
   "outputs": [],
   "source": [
    "def insert(thread_count, save=False):\n",
    "    insertion_routine = 'insert'\n",
    "    title = insertion_routine\n",
    "    \n",
    "    sort_by = 'edges_read_in'\n",
    "    \n",
    "    graphs = expXThreadIR(dhb_ds, 'dhb_insert_static', insertion_routine, 'graph', thread_count, sort_by)\n",
    "    edges = expXThreadIR(dhb_ds, 'dhb_insert_static', insertion_routine, 'edges_read_in', thread_count, sort_by)\n",
    "    print('edges: ' + str(edges))\n",
    "    \n",
    "    dhb_times = expXThreadIR(dhb_ds,'dhb_insert_static', insertion_routine, 'duration_ms', thread_count, sort_by)\n",
    "    dhb_times = min_timeout(dhb_times)\n",
    "    nk_times = expXThreadIR(nk_ds, 'networkit_insert_static', insertion_routine, 'duration_ms', thread_count, sort_by)\n",
    "    nk_times = min_timeout(nk_times)\n",
    "    print('nk_times: ' + str(nk_times))\n",
    "    aspen_times = expXThreadIR(aspen_ds, 'aspen_insert_static', insertion_routine, 'duration_ms', thread_count, sort_by)\n",
    "    aspen_times = min_timeout(aspen_times)\n",
    "    print('aspen_times: ' + str(aspen_times))\n",
    "    stinger_times = expXThreadIR(stinger_ds,  'stinger_insert_static', insertion_routine, 'duration_ms', thread_count, sort_by)\n",
    "    stinger_times = min_timeout(stinger_times)\n",
    "    \n",
    "    stinger_times.insert(4, 1800000.) # orkut\n",
    "    stinger_times.insert(5, 1800000.) # tech-p2p\n",
    "    stinger_times.insert(6, 1800000.) # wiki-link\n",
    "    stinger_times.insert(7, 1800000.) # web-uk-2005\n",
    "    stinger_times.insert(8, 1800000.) # twitter mpi\n",
    "    stinger_times.insert(9, 1800000.) # friendster\n",
    "    \n",
    "    aspen_times.insert(9, 1800000.) # friendster\n",
    "    \n",
    "    print('stinger_times: ' + str(stinger_times))\n",
    "    \n",
    "    fig, ax = plt.subplots()\n",
    "    ax.set_ylabel('nanoseconds per edge insertion')\n",
    "#     ax.set_title('Thread Count: ' + str(thread_count) + ', Inserting all Edges of Static Graphs')\n",
    "    \n",
    "    nk_times_per_edge = [(t / edge_count) * 1000000 for t, edge_count in zip(nk_times, edges)]\n",
    "    dhb_times_per_edge = [(t / edge_count) * 1000000 for t, edge_count in zip(dhb_times, edges)]\n",
    "    stinger_times_per_edge = [(t / edge_count) * 1000000 for t, edge_count in zip(stinger_times, edges)]\n",
    "    aspen_times_per_edge = [(t / edge_count) * 1000000 for t, edge_count in zip(aspen_times, edges)]\n",
    "    \n",
    "    x = np.arange(len(graphs))  # the label locations\n",
    "    width = 0.17\n",
    "    \n",
    "    ax.bar(x - 1.5*width, nk_times_per_edge, \n",
    "           width, label=nk_ds, color=nk_color, hatch=nk_hatch, edgecolor='black', align='center')\n",
    "    ax.bar(x - 0.5*width, stinger_times_per_edge, width, label=stinger_ds, \n",
    "           color=stinger_color, hatch=stinger_hatch, edgecolor='black', align='center')\n",
    "    ax.bar(x + 0.5*width, aspen_times_per_edge, width, label=aspen_ds, \n",
    "           color=aspen_color, hatch=aspen_hatch, edgecolor='black', align='center')\n",
    "    ax.bar(x + 1.5*width, dhb_times_per_edge, \n",
    "           width, label=dhb_ds, color=dhb_color, hatch=dhb_hatch, edgecolor='black')\n",
    "\n",
    "    ax.set_xticks(x)\n",
    "    ax.set_xticklabels(get_abbr_for_graphs([name for name in graphs]), rotation=30)\n",
    "    ax.set_yscale('log', base=10)\n",
    "    \n",
    "    ax.legend()\n",
    "\n",
    "    if save:\n",
    "        plt.savefig('plots/nk_v_stinger_v_aspen_v_dhb_' + insertion_routine + '_thread_count_' + str(thread_count) + '_' + str(datetime.date.today()) + '.pdf', \n",
    "                    bbox_inches='tight')\n",
    "        append_to_factor_file(title + '_thread_count_' + str(thread_count) + '_vs_nk_',\n",
    "                              factor_compared_to(dhb_times_per_edge, nk_times_per_edge))\n",
    "        append_to_factor_file(title + '_thread_count_' + str(thread_count) + '_vs_stinger',\n",
    "                              factor_compared_to(dhb_times_per_edge, stinger_times_per_edge))\n",
    "        append_to_factor_file(title + '_thread_count_' + str(thread_count) + '_vs_aspen',\n",
    "                              factor_compared_to(dhb_times_per_edge, aspen_times_per_edge))\n",
    "    else:\n",
    "        plt.show()"
   ]
  },
  {
   "cell_type": "code",
   "execution_count": 204,
   "metadata": {},
   "outputs": [
    {
     "name": "stdout",
     "output_type": "stream",
     "text": [
      "edges: [7600594, 16518947, 28511806, 68993772, 117185082, 147830697, 601038300, 936364281, 1468365181, 1806067134]\n",
      "nk_times: [526, 4941, 3639, 12415, 21586, 26184, 94767, 61959, 338813, 903990]\n",
      "aspen_times: [17835, 43762, 76514, 191720, 335714, 517646, 1800000.0, 1800000.0, 1800000.0]\n",
      "stinger_times: [192995, 17538, 1130737, 124425, 1800000.0, 1800000.0, 1800000.0, 1800000.0, 1800000.0, 1800000.0]\n"
     ]
    },
    {
     "data": {
      "image/png": "[encoded data removed]",
      "text/plain": [
       "<Figure size 432x288 with 1 Axes>"
      ]
     },
     "metadata": {
      "needs_background": "light"
     },
     "output_type": "display_data"
    }
   ],
   "source": [
    "insert(1, save=save_all_plots)"
   ]
  },
  {
   "cell_type": "code",
   "execution_count": 44,
   "metadata": {},
   "outputs": [],
   "source": [
    "def par_bulk_inserts(thread_count, save=False):\n",
    "    insertion_routine = 'insert_bulk'\n",
    "    title = insertion_routine\n",
    "    \n",
    "    sort_by = 'edges_read_in'\n",
    "    \n",
    "    graphs = expXThreadIR(dhb_ds, 'dhb_par_bulk', insertion_routine, 'graph', thread_count, sort_by)\n",
    "    edges = expXThreadIR(dhb_ds, 'dhb_par_bulk', insertion_routine, 'edges_read_in', thread_count, sort_by)\n",
    "    print('edges: ' + str(edges))\n",
    "    \n",
    "    dhb_times = expXThreadIR(dhb_ds,'dhb_par_bulk', insertion_routine, 'duration_ms', thread_count, sort_by)\n",
    "    dhb_times = min_timeout(dhb_times)\n",
    "    aspen_times = expXThreadIR(aspen_ds, 'aspen_par_bulk', insertion_routine, 'duration_ms', thread_count, sort_by)\n",
    "    aspen_times = min_timeout(aspen_times)\n",
    "    print('aspen_times: ' + str(aspen_times))\n",
    "    stinger_times = expXThreadIR(stinger_ds,  'stinger_par_bulk', insertion_routine, 'duration_ms', thread_count, sort_by)\n",
    "    stinger_times = min_timeout(stinger_times)\n",
    "    print('stinger_times: ' + str(stinger_times))\n",
    "    \n",
    "    if (thread_count == 18 or thread_count == 36):      \n",
    "        stinger_times.insert(8, 1800000.) # twitter mpi\n",
    "    \n",
    "    fig, ax = plt.subplots()\n",
    "    ax.set_ylabel('nanoseconds per edge insertion')\n",
    "#     ax.set_title('Thread Count: ' + str(thread_count) + ', Inserting all Edges of Static Graphs')\n",
    "    \n",
    "    dhb_times_per_edge = [(t / edge_count) * 1000000 for t, edge_count in zip(dhb_times, edges)]\n",
    "    stinger_times_per_edge = [(t / edge_count) * 1000000 for t, edge_count in zip(stinger_times, edges)]\n",
    "    aspen_times_per_edge = [(t / edge_count) * 1000000 for t, edge_count in zip(aspen_times, edges)]\n",
    "    \n",
    "    x = np.arange(len(graphs))  # the label locations\n",
    "    width = 0.17\n",
    "    \n",
    "    ax.bar(x - width, stinger_times_per_edge, width, label=stinger_ds, \n",
    "           color=stinger_color, hatch=stinger_hatch, edgecolor='black', align='center')\n",
    "    ax.bar(x, aspen_times_per_edge, width, label=aspen_ds, \n",
    "           color=aspen_color, hatch=aspen_hatch, edgecolor='black', align='center')\n",
    "    ax.bar(x + width, dhb_times_per_edge, \n",
    "           width, label=dhb_ds, color=dhb_color, hatch=dhb_hatch, edgecolor='black')\n",
    "\n",
    "    ax.set_xticks(x)\n",
    "    ax.set_xticklabels(get_abbr_for_graphs([name for name in graphs]), rotation=30)\n",
    "    ax.set_yscale('log', base=10)\n",
    "    \n",
    "    ax.legend()\n",
    "\n",
    "    if save:\n",
    "        plt.savefig('plots/nk_v_stinger_v_aspen_v_dhb_' + insertion_routine + '_thread_count_' + str(thread_count) + '_' + str(datetime.date.today()) + '.pdf', \n",
    "                    bbox_inches='tight')\n",
    "        append_to_factor_file(title + '_thread_count_' + str(thread_count) + '_vs_stinger',\n",
    "                              factor_compared_to(dhb_times_per_edge, stinger_times_per_edge))\n",
    "        append_to_factor_file(title + '_thread_count_' + str(thread_count) + '_vs_aspen',\n",
    "                              factor_compared_to(dhb_times_per_edge, aspen_times_per_edge))\n",
    "    else:\n",
    "        plt.show()"
   ]
  },
  {
   "cell_type": "code",
   "execution_count": 46,
   "metadata": {},
   "outputs": [
    {
     "name": "stdout",
     "output_type": "stream",
     "text": [
      "edges: [7600594, 16518947, 28511806, 68993772, 117185082, 147830697, 601038300, 936364281, 1468365181, 1806067134]\n",
      "aspen_times: [67, 163, 255, 610, 964, 1291, 5568, 8437, 14073, 16823]\n",
      "stinger_times: [364, 756, 1450, 5937, 36569, 31898, 51272, 75327, 160767]\n"
     ]
    },
    {
     "data": {
      "image/png": "[encoded data removed]",
      "text/plain": [
       "<Figure size 432x288 with 1 Axes>"
      ]
     },
     "metadata": {
      "needs_background": "light"
     },
     "output_type": "display_data"
    }
   ],
   "source": [
    "par_bulk_inserts(18, save=True)"
   ]
  },
  {
   "cell_type": "code",
   "execution_count": 48,
   "metadata": {},
   "outputs": [
    {
     "name": "stdout",
     "output_type": "stream",
     "text": [
      "edges: [7600594, 16518947, 28511806, 68993772, 117185082, 147830697, 601038300, 936364281, 1468365181, 1806067134]\n",
      "aspen_times: [61, 141, 227, 555, 909, 1174, 4797, 7373, 12114, 14353]\n",
      "stinger_times: [312, 709, 1246, 4423, 33415, 20612, 33810, 60947, 166110]\n"
     ]
    },
    {
     "data": {
      "image/png": "[encoded data removed]",
      "text/plain": [
       "<Figure size 432x288 with 1 Axes>"
      ]
     },
     "metadata": {
      "needs_background": "light"
     },
     "output_type": "display_data"
    }
   ],
   "source": [
    "par_bulk_inserts(36, save=True)"
   ]
  },
  {
   "cell_type": "code",
   "execution_count": 208,
   "metadata": {},
   "outputs": [],
   "source": [
    "def memory_footprint(insertion_routine, title, save):    \n",
    "    fig, ax = plt.subplots()\n",
    "    sort_by = 'edges_read_in'\n",
    "    \n",
    "    mem_after = 'memory_footprint_kb_after_insertion'\n",
    "    nk_memory_after_insert = expXThreadIR(nk_ds, 'networkit_temporal_insertions', insertion_routine, mem_after, 1, sort_by)\n",
    "    print('nk: ' + str(nk_memory_after_insert))\n",
    "    dhb_memory_after_insert = expXThreadIR(dhb_ds, 'dhb_temporal_insertions', insertion_routine, mem_after, 1, sort_by)\n",
    "    print('dhb: ' + str(dhb_memory_after_insert))\n",
    "    aspen_memory_after_insert = expXThreadIR(aspen_ds, 'aspen_temporal_insertions', insertion_routine, mem_after, 1, sort_by)\n",
    "    print('aspen: ' + str(aspen_memory_after_insert))\n",
    "    stinger_memory_after_insert = expXThreadIR(stinger_ds, 'stinger_temporal_insertions', insertion_routine, mem_after, 1, sort_by)\n",
    "    print('stinger: ' + str(stinger_memory_after_insert))\n",
    "    \n",
    "    nk_memory_footprint = [kb / 1000. for kb in nk_memory_after_insert]\n",
    "    dhb_memory_footprint = [kb / 1000. for kb in dhb_memory_after_insert]\n",
    "    aspen_memory_footprint = [kb / 1000. for kb in aspen_memory_after_insert]\n",
    "    stinger_memory_footprint = [kb / 1000. for kb in stinger_memory_after_insert]\n",
    "    \n",
    "    graphs = expXThreadIR(dhb_ds, 'dhb_temporal_insertions', insertion_routine, 'graph', 1, sort_by)\n",
    "    \n",
    "    ax.set(ylabel='Memory Footprint in Mega Bytes (KB)')\n",
    "\n",
    "    x = np.arange(len(graphs))  # the label locations\n",
    "    width = 0.15  # the width of the bars\n",
    "\n",
    "    ax.bar(x - 2 * width, nk_memory_footprint, width, label=nk_ds, \n",
    "           color=nk_color, hatch=nk_hatch, edgecolor='black', align='center')\n",
    "    ax.bar(x - width, stinger_memory_footprint, width, label=stinger_ds, \n",
    "           color=stinger_color, hatch=stinger_hatch, edgecolor='black', align='center')\n",
    "    ax.bar(x, aspen_memory_footprint, width, label=aspen_ds, \n",
    "           color=aspen_color, hatch=aspen_hatch, edgecolor='black', align='center')\n",
    "    ax.bar(x + width, dhb_memory_footprint, width, label=dhb_ds, \n",
    "           color=dhb_color, hatch=dhb_hatch, edgecolor='black')\n",
    "    \n",
    "    ax.set_xticks(x)\n",
    "    ax.set_xticklabels(get_abbr_for_graphs(graphs), rotation=30)\n",
    "    \n",
    "#     ax.set_yscale('log', base=10)\n",
    "\n",
    "    ax.legend()\n",
    "    \n",
    "    if save:\n",
    "        plt.savefig('plots/memory_footprint_' + insertion_routine + '_'  + str(datetime.date.today()) + '.pdf', \n",
    "                    bbox_inches = \"tight\")\n",
    "        # FACTORS\n",
    "        append_to_factor_file('memoryFootprintVsNetworKit',\n",
    "                              factor_compared_to(dhb_memory_after_insert, nk_memory_after_insert))\n",
    "        append_to_factor_file('memoryFootprintVsStinger',\n",
    "                              factor_compared_to(dhb_memory_after_insert, stinger_memory_after_insert))\n",
    "        append_to_factor_file('memoryFootprintVsAspen',\n",
    "                              factor_compared_to(dhb_memory_after_insert, aspen_memory_after_insert))\n",
    "    else:\n",
    "        plt.show()"
   ]
  },
  {
   "cell_type": "code",
   "execution_count": 209,
   "metadata": {},
   "outputs": [
    {
     "name": "stdout",
     "output_type": "stream",
     "text": [
      "nk: [87800, 177496, 542788, 1238696, 1086136, 2823288, 3074852]\n",
      "dhb: [90768, 129432, 505728, 1035880, 1261128, 2876772, 3193640]\n",
      "aspen: [238620, 258128, 511416, 911628, 957436, 2089768, 3599352]\n",
      "stinger: [128152, 389812, 536676, 1419052, 1040772, 3265628, 3230516]\n"
     ]
    },
    {
     "data": {
      "image/png": "[encoded data removed]",
      "text/plain": [
       "<Figure size 432x288 with 1 Axes>"
      ]
     },
     "metadata": {
      "needs_background": "light"
     },
     "output_type": "display_data"
    }
   ],
   "source": [
    "memory_footprint('temporal_insertions', 'Memory Footprint After Construction', save=save_all_plots)"
   ]
  },
  {
   "cell_type": "code",
   "execution_count": 210,
   "metadata": {},
   "outputs": [],
   "source": [
    "def plot_rand_insert(thread_count, save=False):    \n",
    "    fig, ax = plt.subplots()\n",
    "    \n",
    "    sort_by = 'edges_read_in'\n",
    "    algo = 'rand_insert'\n",
    "    experiment = 'dhb_random_insertions'\n",
    "    \n",
    "    times = expXThreadIR(dhb_ds, experiment, algo, 'duration_ms', thread_count, sort_by)\n",
    "    vertex_count = expXThreadIR(dhb_ds, experiment, algo, 'vertex_count', thread_count, sort_by)\n",
    "    edges = expXThreadIR(dhb_ds, experiment, algo, 'edge_count_after', thread_count, sort_by)\n",
    "     \n",
    "    times_per_edge = [(t / edge_count) * 1000000 for t, edge_count in zip(times, edges)]\n",
    "    \n",
    "    # title = r'Thread Count: ' + str(thread_count) + ', Inserting Random Edges, $|E| = |V| \\cdot 15$'\n",
    "    ax.set(xlabel=r'count of vertices |V|', ylabel='nanoseconds per edge insertion')\n",
    "\n",
    "    ax.set_xscale('log', base=2)\n",
    "    # ax.set_yscale('log', base=10)\n",
    "    \n",
    "    ax.plot(vertex_count, times_per_edge, \n",
    "            label=dhb_ds + ' T' + str(thread_count), marker='s', markerfacecolor=dhb_color, \n",
    "            color='black')\n",
    "    \n",
    "    ax.grid()\n",
    "    ax.legend()\n",
    "\n",
    "    if save:\n",
    "        plt.savefig('plots/rand_insert_t' + str(thread_count) + '_' + str(datetime.date.today()) + '.pdf', \n",
    "                    bbox_inches = \"tight\")\n",
    "    else:\n",
    "        plt.show()"
   ]
  },
  {
   "cell_type": "code",
   "execution_count": 211,
   "metadata": {},
   "outputs": [
    {
     "data": {
      "image/png": "[encoded data removed]",
      "text/plain": [
       "<Figure size 432x288 with 1 Axes>"
      ]
     },
     "metadata": {
      "needs_background": "light"
     },
     "output_type": "display_data"
    }
   ],
   "source": [
    "plot_rand_insert(1, save=save_all_plots)"
   ]
  },
  {
   "cell_type": "code",
   "execution_count": 49,
   "metadata": {},
   "outputs": [],
   "source": [
    "def speedup(save=False):\n",
    "    \n",
    "    insertion_routine = 'insert_bulk'\n",
    "    title = insertion_routine\n",
    "    sort_by = 'edges_read_in'\n",
    "    experiment = 'dhb_par_bulk'\n",
    "    \n",
    "    edges = extractExpThreadTupleIR(dhb_ds, experiment, insertion_routine, 'edges_read_in', sort_by)\n",
    "    dhb_times = extractExpThreadTupleIR(dhb_ds, experiment, insertion_routine, 'duration_ms', sort_by)\n",
    "    \n",
    "    dhb_times_per_edge = [(count, (time / edge_count) * 1000000) for ((count, time), (count, edge_count)) in zip(dhb_times, edges)]\n",
    "   \n",
    "    dhb_times_per_edge_per_thread = dict()\n",
    "    \n",
    "    for count, time in dhb_times_per_edge:\n",
    "        if count not in dhb_times_per_edge_per_thread:\n",
    "            dhb_times_per_edge_per_thread[count] = [time]\n",
    "        else:\n",
    "            dhb_times_per_edge_per_thread[count].append(time)\n",
    "    \n",
    "    gm_per_edge_per_thread = []\n",
    "    \n",
    "    for c, times in dhb_times_per_edge_per_thread.items():\n",
    "        gm_per_edge_per_thread.append((c, gmean(times)))\n",
    "        \n",
    "    print(gm_per_edge_per_thread)\n",
    "        \n",
    "    base = [time for c, time in gm_per_edge_per_thread if c == 1]\n",
    "    print(base)\n",
    "    speedup = []\n",
    "    for c, gm in gm_per_edge_per_thread:\n",
    "        speedup.append((c, base / gm))\n",
    "        \n",
    "    fig, ax = plt.subplots()\n",
    "    ax.set_ylabel('Speedup')\n",
    "    ax.set_xlabel('Thread Count')\n",
    "    \n",
    "    ax.plot(*zip(*speedup), label='geometric mean', marker='s', markerfacecolor=dhb_color, color='black')\n",
    "    ax.set_xscale('log', base=2)\n",
    "    ax.legend()\n",
    "\n",
    "    if save:\n",
    "        plt.savefig('plots/dhb_speedup_' + insertion_routine + '_' + str(datetime.date.today()) + '.pdf', \n",
    "                    bbox_inches='tight')\n",
    "    else:\n",
    "        plt.show()"
   ]
  },
  {
   "cell_type": "code",
   "execution_count": 51,
   "metadata": {},
   "outputs": [
    {
     "name": "stdout",
     "output_type": "stream",
     "text": [
      "[(1, 36.0541887831328), (2, 34.90753993766739), (4, 18.894533098167145), (8, 11.396241654953082), (16, 8.32234915548506), (18, 8.244560448151079), (36, 9.003693758079208)]\n",
      "[36.0541887831328]\n"
     ]
    },
    {
     "data": {
      "image/png": "[encoded data removed]",
      "text/plain": [
       "<Figure size 432x288 with 1 Axes>"
      ]
     },
     "metadata": {
      "needs_background": "light"
     },
     "output_type": "display_data"
    }
   ],
   "source": [
    "speedup(save=False)"
   ]
  },
  {
   "cell_type": "code",
   "execution_count": 52,
   "metadata": {},
   "outputs": [],
   "source": [
    "def compute_geometric_mean_per_batch(all_batch_sizes, times_per_edge_all):\n",
    "    times_per_edge_mean = dict()\n",
    "    for b, time in zip(all_batch_sizes, times_per_edge_all):\n",
    "        if b not in times_per_edge_mean:\n",
    "            times_per_edge_mean[b] = 1, time\n",
    "        else:\n",
    "            m, value = times_per_edge_mean[b]\n",
    "            times_per_edge_mean[b] = m + 1, value * time\n",
    "    \n",
    "    geometric_mean_per_batch = []\n",
    "    for b, (m, time) in times_per_edge_mean.items():\n",
    "        geometric_mean_per_batch.append((b, time**(1/float(m))))   \n",
    "\n",
    "    geometric_mean_per_batch.sort()\n",
    "    return geometric_mean_per_batch"
   ]
  },
  {
   "cell_type": "code",
   "execution_count": 213,
   "metadata": {},
   "outputs": [],
   "source": [
    "# fixing stinger runs not printing batch_size:\n",
    "# for bs in 64 128 256 512 1024 2048 4096 8192 16384 32768 65536 131072; \n",
    "# do echo \"batch_size: $bs\" | tee -a output/stinger_par_batches~bs$bs\\,t36@_dev/*.out; done"
   ]
  },
  {
   "cell_type": "code",
   "execution_count": 57,
   "metadata": {},
   "outputs": [],
   "source": [
    "def batch_size(thread_count, save=False):\n",
    "    fig, ax = plt.subplots()\n",
    "    \n",
    "    sort_by = 'edges_read_in'\n",
    "    insertion_routine = 'insert_batch'\n",
    "    dhb_exp = 'dhb_par_batches'\n",
    "    aspen_exp = 'aspen_par_batches'\n",
    "    stinger_exp = 'stinger_par_batches'\n",
    "    \n",
    "    dhb_times = expXThreadIR(dhb_ds, dhb_exp, insertion_routine, 'duration_ms', thread_count, sort_by)\n",
    "    aspen_times = expXThreadIR(aspen_ds, aspen_exp, insertion_routine, 'duration_ms', thread_count, sort_by)\n",
    "    stinger_times = expXThreadIR(stinger_ds, stinger_exp, insertion_routine, 'duration_ms', thread_count, sort_by)\n",
    "    \n",
    "    dhb_all_durations = expXThreadIR(dhb_ds, dhb_exp, insertion_routine, 'duration_ms', thread_count, sort_by)\n",
    "    dhb_all_edges = expXThreadIR(dhb_ds, dhb_exp, insertion_routine, 'edges_read_in', thread_count, sort_by)\n",
    "    dhb_all_batch_sizes = expXThreadIR(dhb_ds, dhb_exp, insertion_routine, 'batch_size', thread_count, sort_by)\n",
    "\n",
    "    aspen_all_durations = expXThreadIR(aspen_ds, aspen_exp, insertion_routine, 'duration_ms', thread_count, sort_by)\n",
    "    aspen_all_edges = expXThreadIR(aspen_ds, aspen_exp, insertion_routine, 'edges_read_in', thread_count, sort_by)\n",
    "    aspen_all_batch_sizes = expXThreadIR(aspen_ds, aspen_exp, insertion_routine, 'batch_size', thread_count, sort_by)\n",
    "    \n",
    "    stinger_all_durations = expXThreadIR(stinger_ds, stinger_exp, insertion_routine, 'duration_ms', thread_count, sort_by)\n",
    "    stinger_all_edges = expXThreadIR(stinger_ds, stinger_exp, insertion_routine, 'edges_read_in', thread_count, sort_by)\n",
    "    stinger_all_batch_sizes = expXThreadIR(stinger_ds, stinger_exp, insertion_routine, 'batch_size', thread_count, sort_by)\n",
    "    \n",
    "    dhb_times_per_edge_all = [(t / edge_count) * 1000000 for t, edge_count in zip(dhb_all_durations, dhb_all_edges)]\n",
    "    aspen_times_per_edge_all = [(t / edge_count) * 1000000 for t, edge_count in zip(aspen_all_durations, aspen_all_edges)]\n",
    "    stinger_times_per_edge_all = [(t / edge_count) * 1000000 for t, edge_count in zip(stinger_all_durations, stinger_all_edges)]\n",
    "    \n",
    "    ax.scatter(dhb_all_batch_sizes, dhb_times_per_edge_all, color=dhb_color, marker='+', label=dhb_ds)\n",
    "    ax.scatter(aspen_all_batch_sizes, aspen_times_per_edge_all, color=aspen_color, marker='+', label=aspen_ds)\n",
    "    ax.scatter(stinger_all_batch_sizes, stinger_times_per_edge_all, color=stinger_color, marker='+', label=stinger_ds)\n",
    "    \n",
    "    dhb_geometric_mean_per_batch = compute_geometric_mean_per_batch(dhb_all_batch_sizes, dhb_times_per_edge_all)\n",
    "    aspen_geometric_mean_per_batch = compute_geometric_mean_per_batch(aspen_all_batch_sizes, aspen_times_per_edge_all)\n",
    "    stinger_geometric_mean_per_batch = compute_geometric_mean_per_batch(stinger_all_batch_sizes, stinger_times_per_edge_all)\n",
    "        \n",
    "    ax.plot(*zip(*dhb_geometric_mean_per_batch), label=dhb_ds + ' G.M.', marker='s', \n",
    "            markerfacecolor=dhb_color, color='black')\n",
    "    ax.plot(*zip(*aspen_geometric_mean_per_batch), label=aspen_ds + ' G.M.', marker='s', \n",
    "            markerfacecolor=aspen_color, color='black')\n",
    "    ax.plot(*zip(*stinger_geometric_mean_per_batch), label=stinger_ds + ' G.M.', marker='s', \n",
    "           markerfacecolor=stinger_color, color='black')\n",
    "    \n",
    "    ax.set(xlabel=r'Batch Size', ylabel='nanoseconds per edge insertion')\n",
    "    # ax.set(title=r'thread count: ' + str(thread_count))\n",
    "    ax.legend()\n",
    "    ax.set_xscale('log', base=2)\n",
    "    ax.set_yscale('log', base=10)\n",
    "    ax.grid()\n",
    "\n",
    "    if save:\n",
    "        plt.savefig('plots/batch_size_thread_count_' + str(thread_count) \n",
    "                    + '_' + str(datetime.date.today()) + '.pdf', \n",
    "                    bbox_inches = \"tight\")\n",
    "    else:\n",
    "        plt.show()"
   ]
  },
  {
   "cell_type": "code",
   "execution_count": 63,
   "metadata": {},
   "outputs": [
    {
     "data": {
      "image/png": "[encoded data removed]",
      "text/plain": [
       "<Figure size 432x288 with 1 Axes>"
      ]
     },
     "metadata": {
      "needs_background": "light"
     },
     "output_type": "display_data"
    }
   ],
   "source": [
    "batch_size(36, save=True)"
   ]
  },
  {
   "cell_type": "code",
   "execution_count": 291,
   "metadata": {},
   "outputs": [
    {
     "name": "stdout",
     "output_type": "stream",
     "text": [
      "[8283, 41349, 46348, 130771, 165063, 210019, 965345, 874970]\n",
      "['web-BerkStan', 'cit-Patents', 'wiki-topcats', 'soc-LiveJournal1', 'com-orkut', 'tech-p2p', 'web-wikipedia_link_en13', 'web-uk-2005']\n"
     ]
    },
    {
     "data": {
      "image/png": "[encoded data removed]",
      "text/plain": [
       "<Figure size 432x288 with 1 Axes>"
      ]
     },
     "metadata": {
      "needs_background": "light"
     },
     "output_type": "display_data"
    }
   ],
   "source": [
    "def native_vs_dhb_vs_csr_nk_bfs(save=False):    \n",
    "    fig, ax = plt.subplots()\n",
    "\n",
    "    sort_by = 'edges_read_in' \n",
    "    algo = 'bfs'\n",
    "    vanilla_times = extractExperimentSingleThread(nk_ds, 'nkv_bfs', algo, 'duration_ms', sort_by)\n",
    "    print(vanilla_times)\n",
    "    \n",
    "    dhb_times = extractExperimentSingleThread(nk_ds, 'nkdhb_bfs', algo, 'duration_ms', sort_by)\n",
    "    csr_times = extractExperimentSingleThread(nk_ds, 'csr_bfs', 'csr_bfs', 'duration_ms', sort_by)\n",
    "    \n",
    "    graphs = extractExperimentSingleThread(nk_ds, 'nkdhb_bfs', algo, 'graph', sort_by)\n",
    "    print(graphs)\n",
    "\n",
    "    ax.set_ylabel('time (ms)')\n",
    "    # ax.set_title('NetworKit + Vanilla vs. CSR vs. DHB: BFS')\n",
    "\n",
    "    x = np.arange(len(graphs))  # the label locations\n",
    "    width = 0.2  # the width of the bars\n",
    "    \n",
    "    ax.bar(x - width, vanilla_times, width, label='Native', color=nk_color, hatch=nk_hatch, edgecolor='black')\n",
    "    ax.bar(x, csr_times, width, label='CSR', color=csr_color, hatch=csr_hatch,\n",
    "           edgecolor='black')\n",
    "    ax.bar(x + width, dhb_times, width, label='DHB', color=dhb_color, hatch=dhb_hatch, edgecolor='black')\n",
    "\n",
    "    ax.set_xticks(x)\n",
    "    ax.set_xticklabels(get_abbr_for_graphs(graphs), rotation=30)\n",
    "    ax.set_yscale('log', base=10)\n",
    "    \n",
    "    ax.legend()\n",
    "\n",
    "    if save:\n",
    "        plt.savefig('plots/vanilla_vs_dhb_vs_csr_nk_bfs_' + str(datetime.date.today()) + '.pdf', \n",
    "                    bbox_inches='tight')\n",
    "        append_to_factor_file('bfsVsVanillla',\n",
    "                          factor_compared_to(dhb_times, vanilla_times))\n",
    "        append_to_factor_file('bfsVsCsr',\n",
    "                          factor_compared_to(dhb_times, csr_times))\n",
    "    else:\n",
    "        plt.show()"
   ]
  },
  {
   "cell_type": "code",
   "execution_count": 292,
   "metadata": {},
   "outputs": [
    {
     "name": "stdout",
     "output_type": "stream",
     "text": [
      "[8283, 41349, 46348, 130771, 165063, 210019, 965345, 874970]\n",
      "['web-BerkStan', 'cit-Patents', 'wiki-topcats', 'soc-LiveJournal1', 'com-orkut', 'tech-p2p', 'web-wikipedia_link_en13', 'web-uk-2005']\n"
     ]
    },
    {
     "data": {
      "image/png": "[encoded data removed]",
      "text/plain": [
       "<Figure size 432x288 with 1 Axes>"
      ]
     },
     "metadata": {
      "needs_background": "light"
     },
     "output_type": "display_data"
    }
   ],
   "source": [
    "native_vs_dhb_vs_csr_nk_bfs(save_all_plots)"
   ]
  },
  {
   "cell_type": "code",
   "execution_count": 300,
   "metadata": {},
   "outputs": [
    {
     "name": "stdout",
     "output_type": "stream",
     "text": [
      "[726, 5606, 4027, 11605, 18128, 29218, 122724, 75550, 291799, 550888]\n",
      "['web-BerkStan', 'cit-Patents', 'wiki-topcats', 'soc-LiveJournal1', 'com-orkut', 'tech-p2p', 'web-wikipedia_link_en13', 'web-uk-2005', 'soc-twitter-mpi-sws', 'com-friendster']\n"
     ]
    },
    {
     "data": {
      "image/png": "[encoded data removed]",
      "text/plain": [
       "<Figure size 432x288 with 1 Axes>"
      ]
     },
     "metadata": {
      "needs_background": "light"
     },
     "output_type": "display_data"
    }
   ],
   "source": [
    "def native_vs_dhb_vs_csr_nk_spmv(save=False):    \n",
    "    fig, ax = plt.subplots()\n",
    "\n",
    "    sort_by = 'edges_read_in' \n",
    "    algo = 'spmv'\n",
    "    vanilla_times = extractExperimentSingleThread(nk_ds, 'nkv_spmv', algo, 'duration_ms', sort_by)\n",
    "    print(vanilla_times)\n",
    "    \n",
    "    dhb_times = extractExperimentSingleThread(nk_ds, 'nkdhb_spmv', algo, 'duration_ms', sort_by)\n",
    "    dhb_times.append(1800000.)\n",
    "    \n",
    "    csr_times = extractExperimentSingleThread(nk_ds, 'csr_spmv', 'csr_spmv', 'duration_ms', sort_by)\n",
    "    csr_times.append(1800000.)\n",
    "    \n",
    "    graphs = extractExperimentSingleThread(nk_ds, 'nkv_spmv', algo, 'graph', sort_by)\n",
    "    print(graphs)\n",
    "\n",
    "    ax.set_ylabel('time (ms)')\n",
    "    # ax.set_title('NetworKit + Vanilla vs. CSR vs. DHB: BFS')\n",
    "\n",
    "    x = np.arange(len(graphs))  # the label locations\n",
    "    width = 0.2  # the width of the bars\n",
    "    \n",
    "    ax.bar(x - width, vanilla_times, width, label='Native', color=nk_color, hatch=nk_hatch, edgecolor='black')\n",
    "    ax.bar(x, csr_times, width, label='CSR', color=csr_color, hatch=csr_hatch, edgecolor='black')\n",
    "    ax.bar(x + width, dhb_times, width, label='DHB', color=dhb_color, hatch=dhb_hatch, edgecolor='black')\n",
    "\n",
    "    ax.set_xticks(x)\n",
    "    ax.set_xticklabels(get_abbr_for_graphs(graphs), rotation=30)\n",
    "    ax.set_yscale('log', base=10)\n",
    "    \n",
    "    ax.legend()\n",
    "\n",
    "    if save:\n",
    "        plt.savefig('plots/vanilla_vs_dhb_vs_csr_nk_spmv_' + str(datetime.date.today()) + '.pdf', \n",
    "                    bbox_inches='tight')\n",
    "        append_to_factor_file('spmvVsVanillla',\n",
    "                          factor_compared_to(dhb_times, vanilla_times))\n",
    "        append_to_factor_file('spmvVsCsr',\n",
    "                          factor_compared_to(dhb_times, csr_times))\n",
    "    else:\n",
    "        plt.show()"
   ]
  },
  {
   "cell_type": "code",
   "execution_count": 301,
   "metadata": {},
   "outputs": [
    {
     "name": "stdout",
     "output_type": "stream",
     "text": [
      "[726, 5606, 4027, 11605, 18128, 29218, 122724, 75550, 291799, 550888]\n",
      "['web-BerkStan', 'cit-Patents', 'wiki-topcats', 'soc-LiveJournal1', 'com-orkut', 'tech-p2p', 'web-wikipedia_link_en13', 'web-uk-2005', 'soc-twitter-mpi-sws', 'com-friendster']\n"
     ]
    },
    {
     "data": {
      "image/png": "[encoded data removed]",
      "text/plain": [
       "<Figure size 432x288 with 1 Axes>"
      ]
     },
     "metadata": {
      "needs_background": "light"
     },
     "output_type": "display_data"
    }
   ],
   "source": [
    "native_vs_dhb_vs_csr_nk_spmv(True)"
   ]
  },
  {
   "cell_type": "code",
   "execution_count": null,
   "metadata": {},
   "outputs": [],
   "source": [
    "# experimental not part of paper"
   ]
  },
  {
   "cell_type": "code",
   "execution_count": 66,
   "metadata": {},
   "outputs": [],
   "source": [
    "def times_per_edge(times, edges):\n",
    "    return [(count, (time / edge_count) * 1000000) for ((count, time), (count, edge_count)) in zip(times, edges)]"
   ]
  },
  {
   "cell_type": "code",
   "execution_count": 67,
   "metadata": {},
   "outputs": [],
   "source": [
    "def times_per_edge_per_thread(times_per_edge):\n",
    "    times_per_edge_per_thread = dict()\n",
    "    \n",
    "    for count, time in times_per_edge:\n",
    "        if count not in times_per_edge_per_thread:\n",
    "            times_per_edge_per_thread[count] = [time]\n",
    "        else:\n",
    "            times_per_edge_per_thread[count].append(time)\n",
    "            \n",
    "    return times_per_edge_per_thread"
   ]
  },
  {
   "cell_type": "code",
   "execution_count": 68,
   "metadata": {},
   "outputs": [],
   "source": [
    "def gm_per_edge_per_thread(times_per_edge_per_thread):\n",
    "    gm_per_edge_per_thread = []\n",
    "    \n",
    "    for c, times in times_per_edge_per_thread.items():\n",
    "        gm_per_edge_per_thread.append((c, gmean(times)))\n",
    "\n",
    "    return gm_per_edge_per_thread"
   ]
  },
  {
   "cell_type": "code",
   "execution_count": 69,
   "metadata": {},
   "outputs": [],
   "source": [
    "def get_speedup(gm_per_edge_per_thread, base):\n",
    "    speedup = []\n",
    "    for c, gm in gm_per_edge_per_thread:\n",
    "        speedup.append((c, base / gm))\n",
    "    return speedup"
   ]
  },
  {
   "cell_type": "code",
   "execution_count": 70,
   "metadata": {},
   "outputs": [],
   "source": [
    "def speedup_compare_all(save=False):\n",
    "    \n",
    "    insertion_routine = 'insert_bulk'\n",
    "    title = 'dhb_v_aspen_v_stinger'\n",
    "    sort_by = 'edges_read_in'\n",
    "    \n",
    "    edges = extractExpThreadTupleIR(dhb_ds, 'dhb_par_bulk', insertion_routine, 'edges_read_in', sort_by)\n",
    "    \n",
    "    dhb_times = extractExpThreadTupleIR(dhb_ds, 'dhb_par_bulk', insertion_routine, 'duration_ms', sort_by)\n",
    "    stinger_times = extractExpThreadTupleIR(stinger_ds, 'stinger_par_bulk', insertion_routine, 'duration_ms', sort_by)\n",
    "    aspen_times = extractExpThreadTupleIR(aspen_ds, 'aspen_par_bulk', insertion_routine, 'duration_ms', sort_by)\n",
    "    \n",
    "    dhb_times_per_edge = times_per_edge(dhb_times, edges)\n",
    "    stinger_times_per_edge = times_per_edge(stinger_times, edges)\n",
    "    aspen_times_per_edge = times_per_edge(aspen_times, edges)\n",
    "   \n",
    "    dhb_times_per_edge_per_thread = times_per_edge_per_thread(dhb_times_per_edge)\n",
    "    stinger_times_per_edge_per_thread = times_per_edge_per_thread(stinger_times_per_edge)\n",
    "    aspen_times_per_edge_per_thread = times_per_edge_per_thread(aspen_times_per_edge)\n",
    "    \n",
    "    dhb_gm_per_edge_per_thread = gm_per_edge_per_thread(dhb_times_per_edge_per_thread)\n",
    "    stinger_gm_per_edge_per_thread = gm_per_edge_per_thread(stinger_times_per_edge_per_thread)\n",
    "    aspen_gm_per_edge_per_thread = gm_per_edge_per_thread(aspen_times_per_edge_per_thread)\n",
    "        \n",
    "    base = [time for c, time in dhb_gm_per_edge_per_thread if c == 1]\n",
    "    \n",
    "    dhb_speedup = get_speedup(dhb_gm_per_edge_per_thread, base)\n",
    "    stinger_speedup = get_speedup(stinger_gm_per_edge_per_thread, base)\n",
    "    aspen_speedup = get_speedup(aspen_gm_per_edge_per_thread, base)\n",
    "        \n",
    "    fig, ax = plt.subplots()\n",
    "    ax.set_ylabel('Speedup')\n",
    "    ax.set_xlabel('Thread Count')\n",
    "    \n",
    "    ax.plot(*zip(*dhb_speedup), label=dhb_ds + ' G.M.', linestyle='solid', marker='s', markerfacecolor=dhb_color, color='black')\n",
    "    ax.plot(*zip(*stinger_speedup), label=stinger_ds + ' G.M.', linestyle='dotted', marker='s', markerfacecolor=stinger_color, color='black')\n",
    "    ax.plot(*zip(*aspen_speedup), label=aspen_ds + ' G.M.', linestyle='dashed', marker='s', markerfacecolor=aspen_color, color='black')\n",
    "    \n",
    "    ax.set_xscale('log', base=2)\n",
    "    ax.legend()\n",
    "\n",
    "    if save:\n",
    "        plt.savefig('plots/' + title + '_speedup_' + insertion_routine + '_' + str(datetime.date.today()) + '.pdf', \n",
    "                    bbox_inches='tight')\n",
    "    else:\n",
    "        plt.show()"
   ]
  },
  {
   "cell_type": "code",
   "execution_count": 72,
   "metadata": {},
   "outputs": [
    {
     "data": {
      "image/png": "[encoded data removed]",
      "text/plain": [
       "<Figure size 432x288 with 1 Axes>"
      ]
     },
     "metadata": {
      "needs_background": "light"
     },
     "output_type": "display_data"
    }
   ],
   "source": [
    "speedup_compare_all(save=True)"
   ]
  }
 ],
 "metadata": {
  "interpreter": {
   "hash": "916dbcbb3f70747c44a77c7bcd40155683ae19c65e1c03b4aa3499c5328201f1"
  },
  "kernelspec": {
   "display_name": "Python 3.8.6 64-bit",
   "language": "python",
   "name": "python3"
  },
  "language_info": {
   "codemirror_mode": {
    "name": "ipython",
    "version": 3
   },
   "file_extension": ".py",
   "mimetype": "text/x-python",
   "name": "python",
   "nbconvert_exporter": "python",
   "pygments_lexer": "ipython3",
   "version": "3.8.10"
  },
  "metadata": {
   "interpreter": {
    "hash": "916dbcbb3f70747c44a77c7bcd40155683ae19c65e1c03b4aa3499c5328201f1"
   }
  }
 },
 "nbformat": 4,
 "nbformat_minor": 2
}
